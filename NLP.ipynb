{
 "cells": [
  {
   "attachments": {},
   "cell_type": "markdown",
   "metadata": {},
   "source": [
    "<center><font size=\"10\"> 🔥NLP🔥 </font></center>"
   ]
  },
  {
   "attachments": {},
   "cell_type": "markdown",
   "metadata": {},
   "source": [
    "## Char-RNN"
   ]
  },
  {
   "cell_type": "markdown",
   "metadata": {},
   "source": [
    "#### Generating an Shakespearean Text using Charecter RNN"
   ]
  },
  {
   "cell_type": "code",
   "execution_count": 1,
   "metadata": {},
   "outputs": [],
   "source": [
    "import numpy as np\n",
    "import pandas as pd\n",
    "import tensorflow as tf\n",
    "from tensorflow import keras \n",
    "import matplotlib as mlp\n",
    "import matplotlib.pyplot as plt\n",
    "%matplotlib inline"
   ]
  },
  {
   "attachments": {},
   "cell_type": "markdown",
   "metadata": {},
   "source": [
    "#### Downloading Shakespeare dataset"
   ]
  },
  {
   "cell_type": "code",
   "execution_count": 2,
   "metadata": {},
   "outputs": [],
   "source": [
    "shakespeare_url = \"https://homl.info/shakespeare\"\n",
    "filepath = keras.utils.get_file('shakespeare.txt', shakespeare_url)"
   ]
  },
  {
   "cell_type": "code",
   "execution_count": 3,
   "metadata": {},
   "outputs": [],
   "source": [
    "with open(filepath) as f:\n",
    "    shakespeare_text = f.read()"
   ]
  },
  {
   "cell_type": "code",
   "execution_count": 4,
   "metadata": {},
   "outputs": [
    {
     "name": "stdout",
     "output_type": "stream",
     "text": [
      "First Citizen:\n",
      "Before we proceed any further, hear me speak.\n",
      "\n",
      "All:\n",
      "Speak, speak.\n",
      "\n",
      "First Citizen:\n",
      "You\n"
     ]
    }
   ],
   "source": [
    "print(shakespeare_text[:100])"
   ]
  },
  {
   "cell_type": "code",
   "execution_count": 5,
   "metadata": {},
   "outputs": [
    {
     "data": {
      "text/plain": [
       "\"\\n !$&',-.3:;?abcdefghijklmnopqrstuvwxyz\""
      ]
     },
     "execution_count": 5,
     "metadata": {},
     "output_type": "execute_result"
    }
   ],
   "source": [
    "\"\".join(sorted(set(shakespeare_text.lower())))"
   ]
  },
  {
   "attachments": {},
   "cell_type": "markdown",
   "metadata": {},
   "source": [
    "#### Encode the dataset and map them into all different charecter ids"
   ]
  },
  {
   "cell_type": "code",
   "execution_count": 6,
   "metadata": {},
   "outputs": [],
   "source": [
    "tokenizer = keras.preprocessing.text.Tokenizer(char_level=True)\n",
    "tokenizer.fit_on_texts(shakespeare_text)"
   ]
  },
  {
   "cell_type": "code",
   "execution_count": 7,
   "metadata": {},
   "outputs": [
    {
     "data": {
      "text/plain": [
       "[[20, 6, 9, 8, 3]]"
      ]
     },
     "execution_count": 7,
     "metadata": {},
     "output_type": "execute_result"
    }
   ],
   "source": [
    "tokenizer.texts_to_sequences([\"First\"])"
   ]
  },
  {
   "cell_type": "code",
   "execution_count": 8,
   "metadata": {},
   "outputs": [
    {
     "data": {
      "text/plain": [
       "['f i r s t']"
      ]
     },
     "execution_count": 8,
     "metadata": {},
     "output_type": "execute_result"
    }
   ],
   "source": [
    "\n",
    "tokenizer.sequences_to_texts([[20, 6, 9, 8, 3]])"
   ]
  },
  {
   "cell_type": "code",
   "execution_count": 9,
   "metadata": {},
   "outputs": [],
   "source": [
    "max_id = len(tokenizer.word_index) \n",
    "dataset_size = tokenizer.document_count"
   ]
  },
  {
   "cell_type": "code",
   "execution_count": 10,
   "metadata": {},
   "outputs": [],
   "source": [
    "[encoded] = np.array(tokenizer.texts_to_sequences([shakespeare_text])) - 1\n",
    "train_size = dataset_size * 90 // 100\n",
    "dataset = tf.data.Dataset.from_tensor_slices(encoded[:train_size])"
   ]
  },
  {
   "cell_type": "code",
   "execution_count": 11,
   "metadata": {},
   "outputs": [
    {
     "data": {
      "text/plain": [
       "array([19,  5,  8, ..., 20, 26, 10])"
      ]
     },
     "execution_count": 11,
     "metadata": {},
     "output_type": "execute_result"
    }
   ],
   "source": [
    "encoded"
   ]
  },
  {
   "attachments": {},
   "cell_type": "markdown",
   "metadata": {},
   "source": [
    "#### Splitting the dataset "
   ]
  },
  {
   "cell_type": "code",
   "execution_count": 12,
   "metadata": {},
   "outputs": [],
   "source": [
    "n_steps = 100\n",
    "window_length = n_steps + 1 # target = input shifted 1 character ahead\n",
    "dataset = dataset.window(window_length, shift=1, drop_remainder=True)"
   ]
  },
  {
   "cell_type": "code",
   "execution_count": 13,
   "metadata": {},
   "outputs": [],
   "source": [
    "\n",
    "dataset = dataset.flat_map(lambda window: window.batch(window_length))"
   ]
  },
  {
   "cell_type": "code",
   "execution_count": 17,
   "metadata": {},
   "outputs": [],
   "source": [
    "np.random.seed(42)\n",
    "tf.random.set_seed(42)"
   ]
  },
  {
   "cell_type": "code",
   "execution_count": 18,
   "metadata": {},
   "outputs": [],
   "source": [
    "batch_size = 32\n",
    "dataset = dataset.shuffle(10000).batch(batch_size)\n",
    "dataset = dataset.map(lambda windows: (windows[:, :-1], windows[:, 1:]))"
   ]
  },
  {
   "cell_type": "code",
   "execution_count": 19,
   "metadata": {},
   "outputs": [],
   "source": [
    "dataset = dataset.map(\n",
    "    lambda X_batch, Y_batch: (tf.one_hot(X_batch, depth=max_id), Y_batch))\n",
    "dataset = dataset.prefetch(1)"
   ]
  },
  {
   "cell_type": "code",
   "execution_count": 74,
   "metadata": {},
   "outputs": [
    {
     "name": "stdout",
     "output_type": "stream",
     "text": [
      "Epoch 1/2\n",
      "31368/31368 [==============================] - 2708s 86ms/step - loss: 1.6186\n",
      "Epoch 2/2\n",
      "31368/31368 [==============================] - 2702s 86ms/step - loss: 1.5391\n"
     ]
    }
   ],
   "source": [
    "model = keras.models.Sequential([\n",
    "        keras.layers.GRU(128, return_sequences=True, input_shape=[None, max_id], dropout=0.2),\n",
    "        keras.layers.GRU(128, return_sequences=True, dropout=0.2),\n",
    "        keras.layers.TimeDistributed(keras.layers.Dense(max_id, activation=\"softmax\"))\n",
    "        ])\n",
    "tf.config.run_functions_eagerly(True)\n",
    "model.compile(loss=\"sparse_categorical_crossentropy\", optimizer=\"adam\")\n",
    "history = model.fit(dataset, epochs=2)"
   ]
  },
  {
   "cell_type": "code",
   "execution_count": 78,
   "metadata": {},
   "outputs": [],
   "source": [
    "def preprocess(texts):\n",
    "    X = np.array(tokenizer.texts_to_sequences(texts)) - 1\n",
    "    return tf.one_hot(X, max_id)"
   ]
  },
  {
   "cell_type": "code",
   "execution_count": 82,
   "metadata": {},
   "outputs": [
    {
     "data": {
      "text/plain": [
       "'u'"
      ]
     },
     "execution_count": 82,
     "metadata": {},
     "output_type": "execute_result"
    }
   ],
   "source": [
    "X_new = preprocess([\"How are yo\"])\n",
    "Y_pred = np.argmax(model(X_new), axis=-1)\n",
    "tokenizer.sequences_to_texts(Y_pred + 1)[0][-1]"
   ]
  },
  {
   "cell_type": "code",
   "execution_count": 14,
   "metadata": {},
   "outputs": [],
   "source": [
    "dataset = tf.data.Dataset.from_tensor_slices(encoded[:train_size])\n",
    "dataset = dataset.window(window_length, shift=n_steps, drop_remainder=True)\n",
    "dataset = dataset.flat_map(lambda window: window.batch(window_length))\n",
    "dataset = dataset.batch(1)\n",
    "dataset = dataset.map(lambda windows: (windows[:, :-1], windows[:, 1:]))\n",
    "dataset = dataset.map(\n",
    "    lambda X_batch, Y_batch: (tf.one_hot(X_batch, depth=max_id), Y_batch))\n",
    "dataset = dataset.prefetch(1)"
   ]
  },
  {
   "cell_type": "code",
   "execution_count": 15,
   "metadata": {},
   "outputs": [],
   "source": [
    "batch_size = 32\n",
    "encoded_parts = np.array_split(encoded[:train_size], batch_size)\n",
    "datasets = []\n",
    "for encoded_part in encoded_parts:\n",
    "    dataset = tf.data.Dataset.from_tensor_slices(encoded_part)\n",
    "    dataset = dataset.window(window_length, shift=n_steps, drop_remainder=True)\n",
    "    dataset = dataset.flat_map(lambda window: window.batch(window_length))\n",
    "    datasets.append(dataset)\n",
    "dataset = tf.data.Dataset.zip(tuple(datasets)).map(lambda *windows: tf.stack(windows))\n",
    "dataset = dataset.map(lambda windows: (windows[:, :-1], windows[:, 1:]))\n",
    "dataset = dataset.map(\n",
    "    lambda X_batch, Y_batch: (tf.one_hot(X_batch, depth=max_id), Y_batch))\n",
    "dataset = dataset.prefetch(1)"
   ]
  },
  {
   "cell_type": "code",
   "execution_count": 16,
   "metadata": {},
   "outputs": [],
   "source": [
    "model = keras.models.Sequential([\n",
    "    keras.layers.GRU(128, return_sequences=True, stateful=True,\n",
    "                    dropout=0.2, batch_input_shape=[batch_size, None, max_id]),\n",
    "    keras.layers.GRU(128, return_sequences=True, stateful=True, dropout=0.2),\n",
    "    keras.layers.TimeDistributed(keras.layers.Dense(max_id,\n",
    "                                                    activation=\"softmax\"))\n",
    "])\n"
   ]
  },
  {
   "cell_type": "code",
   "execution_count": 17,
   "metadata": {},
   "outputs": [],
   "source": [
    "class ResetStatesCallback(keras.callbacks.Callback):\n",
    "    def on_epoch_begin(self, epoch, logs):\n",
    "        self.model.reset_states()"
   ]
  },
  {
   "cell_type": "code",
   "execution_count": 19,
   "metadata": {},
   "outputs": [
    {
     "name": "stdout",
     "output_type": "stream",
     "text": [
      "Epoch 1/50\n",
      "313/313 [==============================] - 6s 13ms/step - loss: 1.7120\n",
      "Epoch 2/50\n",
      "313/313 [==============================] - 4s 13ms/step - loss: 1.7119\n",
      "Epoch 3/50\n",
      "313/313 [==============================] - 4s 13ms/step - loss: 1.7072\n",
      "Epoch 4/50\n",
      "313/313 [==============================] - 4s 13ms/step - loss: 1.7069\n",
      "Epoch 5/50\n",
      "313/313 [==============================] - 4s 13ms/step - loss: 1.7074\n",
      "Epoch 6/50\n",
      "313/313 [==============================] - 4s 13ms/step - loss: 1.7053\n",
      "Epoch 7/50\n",
      "313/313 [==============================] - 4s 14ms/step - loss: 1.7036\n",
      "Epoch 8/50\n",
      "313/313 [==============================] - 4s 14ms/step - loss: 1.7051\n",
      "Epoch 9/50\n",
      "313/313 [==============================] - 5s 15ms/step - loss: 1.7029\n",
      "Epoch 10/50\n",
      "313/313 [==============================] - 4s 13ms/step - loss: 1.7052\n",
      "Epoch 11/50\n",
      "313/313 [==============================] - 4s 12ms/step - loss: 1.7013\n",
      "Epoch 12/50\n",
      "313/313 [==============================] - 4s 13ms/step - loss: 1.7004\n",
      "Epoch 13/50\n",
      "313/313 [==============================] - 4s 12ms/step - loss: 1.6989\n",
      "Epoch 14/50\n",
      "313/313 [==============================] - 4s 13ms/step - loss: 1.6981\n",
      "Epoch 15/50\n",
      "313/313 [==============================] - 4s 12ms/step - loss: 1.6978\n",
      "Epoch 16/50\n",
      "313/313 [==============================] - 4s 12ms/step - loss: 1.6954\n",
      "Epoch 17/50\n",
      "313/313 [==============================] - 4s 12ms/step - loss: 1.6976\n",
      "Epoch 18/50\n",
      "313/313 [==============================] - 4s 12ms/step - loss: 1.6956\n",
      "Epoch 19/50\n",
      "313/313 [==============================] - 4s 12ms/step - loss: 1.6924\n",
      "Epoch 20/50\n",
      "313/313 [==============================] - 4s 12ms/step - loss: 1.6953\n",
      "Epoch 21/50\n",
      "313/313 [==============================] - 4s 13ms/step - loss: 1.6915\n",
      "Epoch 22/50\n",
      "313/313 [==============================] - 4s 12ms/step - loss: 1.6936\n",
      "Epoch 23/50\n",
      "313/313 [==============================] - 4s 12ms/step - loss: 1.6932\n",
      "Epoch 24/50\n",
      "313/313 [==============================] - 4s 12ms/step - loss: 1.6939\n",
      "Epoch 25/50\n",
      "313/313 [==============================] - 4s 12ms/step - loss: 1.6914\n",
      "Epoch 26/50\n",
      "313/313 [==============================] - 4s 13ms/step - loss: 1.6894\n",
      "Epoch 27/50\n",
      "313/313 [==============================] - 4s 13ms/step - loss: 1.6886\n",
      "Epoch 28/50\n",
      "313/313 [==============================] - 4s 13ms/step - loss: 1.6878\n",
      "Epoch 29/50\n",
      "313/313 [==============================] - 4s 12ms/step - loss: 1.6878\n",
      "Epoch 30/50\n",
      "313/313 [==============================] - 4s 12ms/step - loss: 1.6890\n",
      "Epoch 31/50\n",
      "313/313 [==============================] - 4s 12ms/step - loss: 1.6883\n",
      "Epoch 32/50\n",
      "313/313 [==============================] - 4s 13ms/step - loss: 1.6865\n",
      "Epoch 33/50\n",
      "313/313 [==============================] - 4s 12ms/step - loss: 1.6853\n",
      "Epoch 34/50\n",
      "313/313 [==============================] - 4s 12ms/step - loss: 1.6859\n",
      "Epoch 35/50\n",
      "313/313 [==============================] - 4s 12ms/step - loss: 1.6852\n",
      "Epoch 36/50\n",
      "313/313 [==============================] - 4s 12ms/step - loss: 1.6824\n",
      "Epoch 37/50\n",
      "313/313 [==============================] - 4s 12ms/step - loss: 1.6815\n",
      "Epoch 38/50\n",
      "313/313 [==============================] - 4s 12ms/step - loss: 1.6837\n",
      "Epoch 39/50\n",
      "313/313 [==============================] - 4s 12ms/step - loss: 1.6822\n",
      "Epoch 40/50\n",
      "313/313 [==============================] - 4s 12ms/step - loss: 1.6816\n",
      "Epoch 41/50\n",
      "313/313 [==============================] - 4s 12ms/step - loss: 1.6808\n",
      "Epoch 42/50\n",
      "313/313 [==============================] - 4s 12ms/step - loss: 1.6804\n",
      "Epoch 43/50\n",
      "313/313 [==============================] - 4s 12ms/step - loss: 1.6806\n",
      "Epoch 44/50\n",
      "313/313 [==============================] - 4s 13ms/step - loss: 1.6794\n",
      "Epoch 45/50\n",
      "313/313 [==============================] - 4s 12ms/step - loss: 1.6793\n",
      "Epoch 46/50\n",
      "313/313 [==============================] - 4s 12ms/step - loss: 1.6775\n",
      "Epoch 47/50\n",
      "313/313 [==============================] - 4s 13ms/step - loss: 1.6765\n",
      "Epoch 48/50\n",
      "313/313 [==============================] - 4s 12ms/step - loss: 1.6793\n",
      "Epoch 49/50\n",
      "313/313 [==============================] - 4s 12ms/step - loss: 1.6760\n",
      "Epoch 50/50\n",
      "313/313 [==============================] - 4s 12ms/step - loss: 1.6766\n"
     ]
    }
   ],
   "source": [
    "model.compile(loss=\"sparse_categorical_crossentropy\", optimizer=\"adam\")\n",
    "history = model.fit(dataset, epochs=50,\n",
    "                    callbacks=[ResetStatesCallback()])"
   ]
  },
  {
   "cell_type": "code",
   "execution_count": 20,
   "metadata": {},
   "outputs": [],
   "source": [
    "def preprocess(texts):\n",
    "    X = np.array(tokenizer.texts_to_sequences(texts)) - 1\n",
    "    return tf.one_hot(X, max_id)\n",
    "\n",
    "def next_char(text, temperature=1):\n",
    "    X_new = preprocess([text])\n",
    "    y_proba = model(X_new)[0, -1:, :]\n",
    "    rescaled_logits = tf.math.log(y_proba) / temperature\n",
    "    char_id = tf.random.categorical(rescaled_logits, num_samples=1) + 1\n",
    "    return tokenizer.sequences_to_texts(char_id.numpy())[0]\n",
    "\n",
    "def complete_text(text, n_chars=1000, temperature=1):\n",
    "    for _ in range(n_chars):\n",
    "        text += next_char(text, temperature)\n",
    "    return text"
   ]
  },
  {
   "cell_type": "code",
   "execution_count": 21,
   "metadata": {},
   "outputs": [],
   "source": [
    "stateless_model = keras.models.Sequential([\n",
    "    keras.layers.GRU(128, return_sequences=True, input_shape=[None, max_id]),\n",
    "    keras.layers.GRU(128, return_sequences=True),\n",
    "    keras.layers.TimeDistributed(keras.layers.Dense(max_id,\n",
    "                                                    activation=\"softmax\"))\n",
    "])"
   ]
  },
  {
   "cell_type": "code",
   "execution_count": 22,
   "metadata": {},
   "outputs": [],
   "source": [
    "stateless_model.build(tf.TensorShape([None, None, max_id]))\n",
    "stateless_model.set_weights(model.get_weights())\n",
    "model = stateless_model\n",
    "tf.random.set_seed(42)"
   ]
  },
  {
   "cell_type": "code",
   "execution_count": 24,
   "metadata": {},
   "outputs": [
    {
     "name": "stdout",
     "output_type": "stream",
     "text": [
      "juliet:\n",
      "'for it in sweet spirit on my form,,\n",
      "or this frince of such a age, once hath last talk the dihine\n",
      "take you blows to beer my clorance.\n",
      "bear thee, so fine end to be painted.\n",
      "\n",
      "sampson:\n",
      "he wile let her brother's would to the duke?\n",
      "that met see the ring, he chadge, we did stand in that peaced:\n",
      "indeed-hip in any palour of\n",
      "mother is the dids, who doats, is't be\n",
      "out so woend all then the upwerily. i know not s;' come to them die? reason\n",
      "percy my good,\n",
      "dreasure we stoik?\n",
      "\n",
      "juliet:\n",
      "true, a cloody roparit.\n",
      "had sack'd? weat minsful thoughts friie, there cunser'd\n",
      "agom, i was vire yet he won that wilt be\n",
      "the fouch of full wath beed unkindly.\n",
      "\n",
      "gremio:\n",
      "thy greater have been his aster, i am ruins?\n",
      "\n",
      "gloucester:\n",
      "but now you'll weep be those that his now down\n",
      "that do you can a lose forth he many king will be resign,\n",
      "thennor, but i am a montua\n",
      "yet eve to the night, it assone many by\n",
      "sift his omfemant with all soleratien,\n",
      "he'll have poison of the king, daughter; and never be?\n",
      "but you\n",
      "nou\n",
      "the meaver of my s\n"
     ]
    }
   ],
   "source": [
    "print(complete_text(\"juliet\"))"
   ]
  },
  {
   "cell_type": "code",
   "execution_count": null,
   "metadata": {},
   "outputs": [],
   "source": []
  }
 ],
 "metadata": {
  "kernelspec": {
   "display_name": "Python 3",
   "language": "python",
   "name": "python3"
  },
  "language_info": {
   "codemirror_mode": {
    "name": "ipython",
    "version": 3
   },
   "file_extension": ".py",
   "mimetype": "text/x-python",
   "name": "python",
   "nbconvert_exporter": "python",
   "pygments_lexer": "ipython3",
   "version": "3.9.0"
  },
  "orig_nbformat": 4
 },
 "nbformat": 4,
 "nbformat_minor": 2
}
