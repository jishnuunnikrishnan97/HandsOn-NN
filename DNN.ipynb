{
 "cells": [
  {
   "cell_type": "markdown",
   "metadata": {},
   "source": [
    "<center><font size=\"10\"> 🔥Transfer Learning🔥 </font></center>"
   ]
  },
  {
   "cell_type": "code",
   "execution_count": 2,
   "metadata": {},
   "outputs": [],
   "source": [
    "import tensorflow as tf\n",
    "from tensorflow import keras\n",
    "import numpy as np\n",
    "import matplotlib.pyplot as plt"
   ]
  },
  {
   "cell_type": "code",
   "execution_count": 6,
   "metadata": {},
   "outputs": [],
   "source": [
    "(X_train_full, y_train_full), (X_test, y_test) = keras.datasets.fashion_mnist.load_data()\n",
    "X_train_full = X_train_full / 255.0\n",
    "X_test = X_test / 255.0\n",
    "X_valid, X_train = X_train_full[:5000], X_train_full[5000:]\n",
    "y_valid, y_train = y_train_full[:5000], y_train_full[5000:]"
   ]
  },
  {
   "cell_type": "code",
   "execution_count": 7,
   "metadata": {},
   "outputs": [],
   "source": [
    "def split_dataset(X, y):\n",
    "    y_5_or_6 = (y == 5) | (y == 6) # sandals or shirts\n",
    "    y_A = y[~y_5_or_6]\n",
    "    y_A[y_A > 6] -= 2 # class indices 7, 8, 9 should be moved to 5, 6, 7\n",
    "    y_B = (y[y_5_or_6] == 6).astype(np.float32) # binary classification task: is it a shirt (class 6)?\n",
    "    return ((X[~y_5_or_6], y_A),\n",
    "            (X[y_5_or_6], y_B))\n",
    "\n",
    "(X_train_A, y_train_A), (X_train_B, y_train_B) = split_dataset(X_train, y_train)\n",
    "(X_valid_A, y_valid_A), (X_valid_B, y_valid_B) = split_dataset(X_valid, y_valid)\n",
    "(X_test_A, y_test_A), (X_test_B, y_test_B) = split_dataset(X_test, y_test)\n",
    "X_train_B = X_train_B[:200]\n",
    "y_train_B = y_train_B[:200]"
   ]
  },
  {
   "cell_type": "code",
   "execution_count": 8,
   "metadata": {},
   "outputs": [
    {
     "name": "stdout",
     "output_type": "stream",
     "text": [
      "Epoch 1/20\n",
      "1375/1375 [==============================] - 9s 6ms/step - loss: 0.5642 - accuracy: 0.8164 - val_loss: 0.3875 - val_accuracy: 0.8662\n",
      "Epoch 2/20\n",
      "1375/1375 [==============================] - 10s 7ms/step - loss: 0.3555 - accuracy: 0.8740 - val_loss: 0.3285 - val_accuracy: 0.8859\n",
      "Epoch 3/20\n",
      "1375/1375 [==============================] - 11s 8ms/step - loss: 0.3179 - accuracy: 0.8869 - val_loss: 0.3025 - val_accuracy: 0.8956\n",
      "Epoch 4/20\n",
      "1375/1375 [==============================] - 10s 8ms/step - loss: 0.2979 - accuracy: 0.8968 - val_loss: 0.2876 - val_accuracy: 0.9033\n",
      "Epoch 5/20\n",
      "1375/1375 [==============================] - 10s 7ms/step - loss: 0.2847 - accuracy: 0.9010 - val_loss: 0.2787 - val_accuracy: 0.9076\n",
      "Epoch 6/20\n",
      "1375/1375 [==============================] - 11s 8ms/step - loss: 0.2752 - accuracy: 0.9051 - val_loss: 0.2734 - val_accuracy: 0.9088\n",
      "Epoch 7/20\n",
      "1375/1375 [==============================] - 11s 8ms/step - loss: 0.2671 - accuracy: 0.9088 - val_loss: 0.2711 - val_accuracy: 0.9081\n",
      "Epoch 8/20\n",
      "1375/1375 [==============================] - 11s 8ms/step - loss: 0.2606 - accuracy: 0.9105 - val_loss: 0.2635 - val_accuracy: 0.9116\n",
      "Epoch 9/20\n",
      "1375/1375 [==============================] - 11s 8ms/step - loss: 0.2550 - accuracy: 0.9125 - val_loss: 0.2608 - val_accuracy: 0.9128\n",
      "Epoch 10/20\n",
      "1375/1375 [==============================] - 11s 8ms/step - loss: 0.2502 - accuracy: 0.9144 - val_loss: 0.2568 - val_accuracy: 0.9123\n",
      "Epoch 11/20\n",
      "1375/1375 [==============================] - 11s 8ms/step - loss: 0.2457 - accuracy: 0.9167 - val_loss: 0.2506 - val_accuracy: 0.9148\n",
      "Epoch 12/20\n",
      "1375/1375 [==============================] - 10s 7ms/step - loss: 0.2416 - accuracy: 0.9177 - val_loss: 0.2532 - val_accuracy: 0.9148\n",
      "Epoch 13/20\n",
      "1375/1375 [==============================] - 11s 8ms/step - loss: 0.2381 - accuracy: 0.9187 - val_loss: 0.2464 - val_accuracy: 0.9173\n",
      "Epoch 14/20\n",
      "1375/1375 [==============================] - 11s 8ms/step - loss: 0.2348 - accuracy: 0.9196 - val_loss: 0.2463 - val_accuracy: 0.9168\n",
      "Epoch 15/20\n",
      "1375/1375 [==============================] - 10s 7ms/step - loss: 0.2318 - accuracy: 0.9205 - val_loss: 0.2503 - val_accuracy: 0.9163\n",
      "Epoch 16/20\n",
      "1375/1375 [==============================] - 10s 7ms/step - loss: 0.2287 - accuracy: 0.9222 - val_loss: 0.2420 - val_accuracy: 0.9180\n",
      "Epoch 17/20\n",
      "1375/1375 [==============================] - 8s 6ms/step - loss: 0.2260 - accuracy: 0.9229 - val_loss: 0.2471 - val_accuracy: 0.9173\n",
      "Epoch 18/20\n",
      "1375/1375 [==============================] - 8s 6ms/step - loss: 0.2231 - accuracy: 0.9232 - val_loss: 0.2489 - val_accuracy: 0.9136\n",
      "Epoch 19/20\n",
      "1375/1375 [==============================] - 7s 5ms/step - loss: 0.2208 - accuracy: 0.9250 - val_loss: 0.2374 - val_accuracy: 0.9205\n",
      "Epoch 20/20\n",
      "1375/1375 [==============================] - 7s 5ms/step - loss: 0.2184 - accuracy: 0.9262 - val_loss: 0.2402 - val_accuracy: 0.9173\n"
     ]
    }
   ],
   "source": [
    "tf.random.set_seed(42)\n",
    "np.random.seed(42)\n",
    "model_A = keras.models.Sequential()\n",
    "model_A.add(keras.layers.Flatten(input_shape=[28, 28]))\n",
    "for n_hidden in (300, 100, 50, 50, 50):\n",
    "    model_A.add(keras.layers.Dense(n_hidden, activation=\"selu\"))\n",
    "model_A.add(keras.layers.Dense(8, activation=\"softmax\"))\n",
    "\n",
    "\n",
    "model_A.compile(loss=\"sparse_categorical_crossentropy\",\n",
    "                optimizer=keras.optimizers.SGD(learning_rate=1e-3),\n",
    "                metrics=[\"accuracy\"])\n",
    "\n",
    "\n",
    "history = model_A.fit(X_train_A, y_train_A, epochs=20,\n",
    "                    validation_data=(X_valid_A, y_valid_A))"
   ]
  },
  {
   "cell_type": "code",
   "execution_count": 9,
   "metadata": {},
   "outputs": [],
   "source": [
    "model_A.save(\"model_for_reuse.h5\")"
   ]
  },
  {
   "cell_type": "code",
   "execution_count": 10,
   "metadata": {},
   "outputs": [],
   "source": [
    "model_B = keras.models.Sequential()\n",
    "model_B.add(keras.layers.Flatten(input_shape=[28, 28]))\n",
    "for n_hidden in (300, 100, 50, 50, 50):\n",
    "    model_B.add(keras.layers.Dense(n_hidden, activation=\"selu\"))\n",
    "model_B.add(keras.layers.Dense(1, activation=\"sigmoid\"))"
   ]
  },
  {
   "cell_type": "code",
   "execution_count": 11,
   "metadata": {},
   "outputs": [],
   "source": [
    "model_B.compile(loss=\"binary_crossentropy\",\n",
    "                optimizer=keras.optimizers.SGD(learning_rate=1e-3),\n",
    "                metrics=[\"accuracy\"])"
   ]
  },
  {
   "cell_type": "code",
   "execution_count": 12,
   "metadata": {},
   "outputs": [
    {
     "name": "stdout",
     "output_type": "stream",
     "text": [
      "Epoch 1/20\n",
      "7/7 [==============================] - 1s 60ms/step - loss: 0.8847 - accuracy: 0.5100 - val_loss: 0.5043 - val_accuracy: 0.7951\n",
      "Epoch 2/20\n",
      "7/7 [==============================] - 0s 29ms/step - loss: 0.4339 - accuracy: 0.8600 - val_loss: 0.3902 - val_accuracy: 0.8661\n",
      "Epoch 3/20\n",
      "7/7 [==============================] - 0s 31ms/step - loss: 0.3382 - accuracy: 0.9100 - val_loss: 0.3219 - val_accuracy: 0.9077\n",
      "Epoch 4/20\n",
      "7/7 [==============================] - 0s 25ms/step - loss: 0.2783 - accuracy: 0.9300 - val_loss: 0.2771 - val_accuracy: 0.9300\n",
      "Epoch 5/20\n",
      "7/7 [==============================] - 0s 24ms/step - loss: 0.2375 - accuracy: 0.9450 - val_loss: 0.2437 - val_accuracy: 0.9381\n",
      "Epoch 6/20\n",
      "7/7 [==============================] - 0s 28ms/step - loss: 0.2067 - accuracy: 0.9450 - val_loss: 0.2186 - val_accuracy: 0.9554\n",
      "Epoch 7/20\n",
      "7/7 [==============================] - 0s 39ms/step - loss: 0.1835 - accuracy: 0.9750 - val_loss: 0.2025 - val_accuracy: 0.9533\n",
      "Epoch 8/20\n",
      "7/7 [==============================] - 0s 31ms/step - loss: 0.1660 - accuracy: 0.9750 - val_loss: 0.1847 - val_accuracy: 0.9625\n",
      "Epoch 9/20\n",
      "7/7 [==============================] - 0s 35ms/step - loss: 0.1502 - accuracy: 0.9900 - val_loss: 0.1698 - val_accuracy: 0.9706\n",
      "Epoch 10/20\n",
      "7/7 [==============================] - 0s 33ms/step - loss: 0.1377 - accuracy: 0.9950 - val_loss: 0.1598 - val_accuracy: 0.9716\n",
      "Epoch 11/20\n",
      "7/7 [==============================] - 0s 40ms/step - loss: 0.1279 - accuracy: 0.9950 - val_loss: 0.1520 - val_accuracy: 0.9736\n",
      "Epoch 12/20\n",
      "7/7 [==============================] - 0s 35ms/step - loss: 0.1190 - accuracy: 0.9950 - val_loss: 0.1434 - val_accuracy: 0.9757\n",
      "Epoch 13/20\n",
      "7/7 [==============================] - 0s 37ms/step - loss: 0.1109 - accuracy: 0.9950 - val_loss: 0.1360 - val_accuracy: 0.9777\n",
      "Epoch 14/20\n",
      "7/7 [==============================] - 0s 35ms/step - loss: 0.1040 - accuracy: 0.9950 - val_loss: 0.1300 - val_accuracy: 0.9777\n",
      "Epoch 15/20\n",
      "7/7 [==============================] - 0s 34ms/step - loss: 0.0980 - accuracy: 0.9950 - val_loss: 0.1234 - val_accuracy: 0.9797\n",
      "Epoch 16/20\n",
      "7/7 [==============================] - 0s 32ms/step - loss: 0.0927 - accuracy: 0.9950 - val_loss: 0.1185 - val_accuracy: 0.9797\n",
      "Epoch 17/20\n",
      "7/7 [==============================] - 0s 26ms/step - loss: 0.0880 - accuracy: 0.9950 - val_loss: 0.1147 - val_accuracy: 0.9797\n",
      "Epoch 18/20\n",
      "7/7 [==============================] - 0s 33ms/step - loss: 0.0841 - accuracy: 0.9950 - val_loss: 0.1107 - val_accuracy: 0.9807\n",
      "Epoch 19/20\n",
      "7/7 [==============================] - 0s 35ms/step - loss: 0.0802 - accuracy: 0.9950 - val_loss: 0.1073 - val_accuracy: 0.9817\n",
      "Epoch 20/20\n",
      "7/7 [==============================] - 0s 33ms/step - loss: 0.0766 - accuracy: 0.9950 - val_loss: 0.1044 - val_accuracy: 0.9817\n"
     ]
    }
   ],
   "source": [
    "history = model_B.fit(X_train_B, y_train_B, epochs=20,\n",
    "                        validation_data=(X_valid_B, y_valid_B))"
   ]
  },
  {
   "cell_type": "code",
   "execution_count": 13,
   "metadata": {},
   "outputs": [],
   "source": [
    "model_A = keras.models.load_model(\"model_for_reuse.h5\")\n",
    "model_B_on_A = keras.models.Sequential(model_A.layers[:-1])\n",
    "model_B_on_A.add(keras.layers.Dense(1, activation = 'sigmoid'))"
   ]
  },
  {
   "attachments": {},
   "cell_type": "markdown",
   "metadata": {},
   "source": [
    "#### To avoid the training affect model_A create its clone"
   ]
  },
  {
   "cell_type": "code",
   "execution_count": 14,
   "metadata": {},
   "outputs": [],
   "source": [
    "model_A_clone = keras.models.clone_model(model_A)\n",
    "model_A_clone.set_weights(model_A.get_weights())"
   ]
  },
  {
   "attachments": {},
   "cell_type": "markdown",
   "metadata": {},
   "source": [
    "#### As the output layer was randomly initialized the model might incur very large errors so to avoid it freeze training those reused layers for few epochs"
   ]
  },
  {
   "cell_type": "code",
   "execution_count": 15,
   "metadata": {},
   "outputs": [],
   "source": [
    "for layer in model_B_on_A.layers[:-1]:\n",
    "    layer.trainable = False\n",
    "\n",
    "model_B_on_A.compile(loss=\"binary_crossentropy\", optimizer=\"sgd\", metrics=['accuracy'])"
   ]
  },
  {
   "cell_type": "code",
   "execution_count": 16,
   "metadata": {},
   "outputs": [
    {
     "name": "stdout",
     "output_type": "stream",
     "text": [
      "Epoch 1/4\n",
      "7/7 [==============================] - 1s 66ms/step - loss: 0.4947 - accuracy: 0.7500 - val_loss: 0.3206 - val_accuracy: 0.7921\n",
      "Epoch 2/4\n",
      "7/7 [==============================] - 0s 29ms/step - loss: 0.2360 - accuracy: 0.8850 - val_loss: 0.2032 - val_accuracy: 0.9574\n",
      "Epoch 3/4\n",
      "7/7 [==============================] - 0s 28ms/step - loss: 0.1530 - accuracy: 0.9850 - val_loss: 0.1501 - val_accuracy: 0.9797\n",
      "Epoch 4/4\n",
      "7/7 [==============================] - 0s 32ms/step - loss: 0.1136 - accuracy: 0.9950 - val_loss: 0.1186 - val_accuracy: 0.9848\n",
      "Epoch 1/16\n"
     ]
    },
    {
     "name": "stderr",
     "output_type": "stream",
     "text": [
      "c:\\Users\\unnikris\\AppData\\Local\\Programs\\Python\\Python39\\lib\\site-packages\\keras\\optimizers\\optimizer_v2\\gradient_descent.py:111: UserWarning: The `lr` argument is deprecated, use `learning_rate` instead.\n",
      "  super().__init__(name, **kwargs)\n"
     ]
    },
    {
     "name": "stdout",
     "output_type": "stream",
     "text": [
      "7/7 [==============================] - 1s 72ms/step - loss: 0.0948 - accuracy: 0.9950 - val_loss: 0.1164 - val_accuracy: 0.9858\n",
      "Epoch 2/16\n",
      "7/7 [==============================] - 0s 31ms/step - loss: 0.0927 - accuracy: 0.9950 - val_loss: 0.1145 - val_accuracy: 0.9858\n",
      "Epoch 3/16\n",
      "7/7 [==============================] - 0s 32ms/step - loss: 0.0909 - accuracy: 0.9950 - val_loss: 0.1127 - val_accuracy: 0.9868\n",
      "Epoch 4/16\n",
      "7/7 [==============================] - 0s 29ms/step - loss: 0.0893 - accuracy: 0.9950 - val_loss: 0.1107 - val_accuracy: 0.9868\n",
      "Epoch 5/16\n",
      "7/7 [==============================] - 0s 32ms/step - loss: 0.0874 - accuracy: 0.9950 - val_loss: 0.1090 - val_accuracy: 0.9868\n",
      "Epoch 6/16\n",
      "7/7 [==============================] - 0s 34ms/step - loss: 0.0858 - accuracy: 0.9950 - val_loss: 0.1074 - val_accuracy: 0.9868\n",
      "Epoch 7/16\n",
      "7/7 [==============================] - 0s 31ms/step - loss: 0.0843 - accuracy: 0.9950 - val_loss: 0.1057 - val_accuracy: 0.9868\n",
      "Epoch 8/16\n",
      "7/7 [==============================] - 0s 23ms/step - loss: 0.0827 - accuracy: 0.9950 - val_loss: 0.1043 - val_accuracy: 0.9868\n",
      "Epoch 9/16\n",
      "7/7 [==============================] - 0s 23ms/step - loss: 0.0813 - accuracy: 0.9950 - val_loss: 0.1030 - val_accuracy: 0.9868\n",
      "Epoch 10/16\n",
      "7/7 [==============================] - 0s 29ms/step - loss: 0.0801 - accuracy: 0.9950 - val_loss: 0.1017 - val_accuracy: 0.9868\n",
      "Epoch 11/16\n",
      "7/7 [==============================] - 0s 39ms/step - loss: 0.0789 - accuracy: 0.9950 - val_loss: 0.1005 - val_accuracy: 0.9858\n",
      "Epoch 12/16\n",
      "7/7 [==============================] - 0s 39ms/step - loss: 0.0778 - accuracy: 0.9950 - val_loss: 0.0994 - val_accuracy: 0.9858\n",
      "Epoch 13/16\n",
      "7/7 [==============================] - 0s 40ms/step - loss: 0.0768 - accuracy: 0.9950 - val_loss: 0.0984 - val_accuracy: 0.9858\n",
      "Epoch 14/16\n",
      "7/7 [==============================] - 0s 34ms/step - loss: 0.0758 - accuracy: 0.9950 - val_loss: 0.0974 - val_accuracy: 0.9858\n",
      "Epoch 15/16\n",
      "7/7 [==============================] - 0s 39ms/step - loss: 0.0748 - accuracy: 0.9950 - val_loss: 0.0964 - val_accuracy: 0.9858\n",
      "Epoch 16/16\n",
      "7/7 [==============================] - 0s 34ms/step - loss: 0.0739 - accuracy: 0.9950 - val_loss: 0.0955 - val_accuracy: 0.9858\n"
     ]
    }
   ],
   "source": [
    "history = model_B_on_A.fit(X_train_B, y_train_B, epochs=4, validation_data=(X_valid_B, y_valid_B))\n",
    "\n",
    "for layer in model_B_on_A.layers[:-1]:\n",
    "    layer.trainable = True\n",
    "\n",
    "optimizer = keras.optimizers.SGD(lr = 1e-4)\n",
    "model_B_on_A.compile(loss=\"binary_crossentropy\", optimizer = optimizer, metrics=['accuracy'])\n",
    "history = model_B_on_A.fit(X_train_B, y_train_B, epochs=16,\n",
    "                            validation_data=(X_valid_B, y_valid_B))"
   ]
  },
  {
   "cell_type": "code",
   "execution_count": 17,
   "metadata": {},
   "outputs": [
    {
     "name": "stdout",
     "output_type": "stream",
     "text": [
      "63/63 [==============================] - 0s 3ms/step - loss: 0.0970 - accuracy: 0.9830\n"
     ]
    },
    {
     "data": {
      "text/plain": [
       "[0.09704770892858505, 0.9829999804496765]"
      ]
     },
     "execution_count": 17,
     "metadata": {},
     "output_type": "execute_result"
    }
   ],
   "source": [
    "model_B.evaluate(X_test_B, y_test_B)"
   ]
  },
  {
   "cell_type": "markdown",
   "metadata": {},
   "source": [
    "## Faster Optimizers"
   ]
  },
  {
   "attachments": {},
   "cell_type": "markdown",
   "metadata": {},
   "source": [
    "### Momentum optimization"
   ]
  },
  {
   "cell_type": "code",
   "execution_count": 18,
   "metadata": {},
   "outputs": [],
   "source": [
    "optimizer = keras.optimizers.SGD(learning_rate=0.001, momentum=0.9)"
   ]
  },
  {
   "cell_type": "markdown",
   "metadata": {},
   "source": [
    "#### Nesterov Accelerated Gradient (faster than Momentum optimization)"
   ]
  },
  {
   "cell_type": "code",
   "execution_count": 20,
   "metadata": {},
   "outputs": [],
   "source": [
    "optimizer = keras.optimizers.SGD(learning_rate=0.001, momentum=0.9, nesterov=True)"
   ]
  },
  {
   "attachments": {},
   "cell_type": "markdown",
   "metadata": {},
   "source": [
    "#### AdaGrad (do not use for NN)"
   ]
  },
  {
   "cell_type": "code",
   "execution_count": 21,
   "metadata": {},
   "outputs": [],
   "source": [
    "optimizer = keras.optimizers.SGD(learning_rate=0.001)"
   ]
  },
  {
   "attachments": {},
   "cell_type": "markdown",
   "metadata": {},
   "source": [
    "#### RMSProp"
   ]
  },
  {
   "cell_type": "code",
   "execution_count": null,
   "metadata": {},
   "outputs": [],
   "source": [
    "optimizer = keras.optimizers.RMSprop(learning_rate=0.001, rho=0.9)"
   ]
  },
  {
   "attachments": {},
   "cell_type": "markdown",
   "metadata": {},
   "source": [
    "#### Adam Optimization"
   ]
  },
  {
   "cell_type": "code",
   "execution_count": 22,
   "metadata": {},
   "outputs": [],
   "source": [
    "optimizer = keras.optimizers.Adam(learning_rate=0.001, beta_1=0.9, beta_2=0.999)"
   ]
  },
  {
   "attachments": {},
   "cell_type": "markdown",
   "metadata": {},
   "source": [
    "#### Adamax Optimization"
   ]
  },
  {
   "cell_type": "code",
   "execution_count": 23,
   "metadata": {},
   "outputs": [],
   "source": [
    "optimizer = keras.optimizers.Adamax(learning_rate=0.001, beta_1=0.9, beta_2=0.999)"
   ]
  },
  {
   "attachments": {},
   "cell_type": "markdown",
   "metadata": {},
   "source": [
    "#### Nadam Optimization"
   ]
  },
  {
   "cell_type": "code",
   "execution_count": 24,
   "metadata": {},
   "outputs": [],
   "source": [
    "optimizer = keras.optimizers.Nadam(learning_rate=0.001, beta_1=0.9, beta_2=0.999)"
   ]
  },
  {
   "cell_type": "code",
   "execution_count": 27,
   "metadata": {},
   "outputs": [],
   "source": [
    "(X_train_full, y_train_full), (X_test, y_test) = keras.datasets.fashion_mnist.load_data()\n",
    "X_train_full = X_train_full / 255.0\n",
    "X_test = X_test / 255.0\n",
    "X_valid, X_train = X_train_full[:5000], X_train_full[5000:]\n",
    "y_valid, y_train = y_train_full[:5000], y_train_full[5000:]"
   ]
  },
  {
   "cell_type": "code",
   "execution_count": 28,
   "metadata": {},
   "outputs": [],
   "source": [
    "pixel_means = X_train.mean(axis=0, keepdims=True)\n",
    "pixel_stds = X_train.std(axis=0, keepdims=True)\n",
    "X_train_scaled = (X_train - pixel_means) / pixel_stds\n",
    "X_valid_scaled = (X_valid - pixel_means) / pixel_stds\n",
    "X_test_scaled = (X_test - pixel_means) / pixel_stds"
   ]
  },
  {
   "cell_type": "markdown",
   "metadata": {},
   "source": [
    "## Learning Rate Scheduling"
   ]
  },
  {
   "attachments": {},
   "cell_type": "markdown",
   "metadata": {},
   "source": [
    "### Power Scheduling"
   ]
  },
  {
   "cell_type": "code",
   "execution_count": 25,
   "metadata": {},
   "outputs": [],
   "source": [
    "optimizer = keras.optimizers.SGD(learning_rate=0.01, decay = 1e-4)"
   ]
  },
  {
   "cell_type": "code",
   "execution_count": 26,
   "metadata": {},
   "outputs": [],
   "source": [
    "model = keras.models.Sequential([\n",
    "    keras.layers.Flatten(input_shape=[28, 28]),\n",
    "    keras.layers.Dense(300, activation=\"selu\", kernel_initializer=\"lecun_normal\"),\n",
    "    keras.layers.Dense(100, activation=\"selu\", kernel_initializer=\"lecun_normal\"),\n",
    "    keras.layers.Dense(10, activation=\"softmax\")\n",
    "])\n",
    "model.compile(loss=\"sparse_categorical_crossentropy\", optimizer=optimizer, metrics=[\"accuracy\"])"
   ]
  },
  {
   "cell_type": "code",
   "execution_count": 29,
   "metadata": {},
   "outputs": [
    {
     "name": "stdout",
     "output_type": "stream",
     "text": [
      "Epoch 1/25\n",
      "1719/1719 [==============================] - 9s 5ms/step - loss: 0.4838 - accuracy: 0.8288 - val_loss: 0.3995 - val_accuracy: 0.8600\n",
      "Epoch 2/25\n",
      "1719/1719 [==============================] - 8s 4ms/step - loss: 0.3787 - accuracy: 0.8639 - val_loss: 0.3689 - val_accuracy: 0.8696\n",
      "Epoch 3/25\n",
      "1719/1719 [==============================] - 9s 5ms/step - loss: 0.3462 - accuracy: 0.8761 - val_loss: 0.3682 - val_accuracy: 0.8686\n",
      "Epoch 4/25\n",
      "1719/1719 [==============================] - 7s 4ms/step - loss: 0.3256 - accuracy: 0.8821 - val_loss: 0.3472 - val_accuracy: 0.8796\n",
      "Epoch 5/25\n",
      "1719/1719 [==============================] - 8s 5ms/step - loss: 0.3107 - accuracy: 0.8895 - val_loss: 0.3404 - val_accuracy: 0.8750\n",
      "Epoch 6/25\n",
      "1719/1719 [==============================] - 8s 5ms/step - loss: 0.2970 - accuracy: 0.8943 - val_loss: 0.3387 - val_accuracy: 0.8798\n",
      "Epoch 7/25\n",
      "1719/1719 [==============================] - 8s 5ms/step - loss: 0.2869 - accuracy: 0.8987 - val_loss: 0.3346 - val_accuracy: 0.8808\n",
      "Epoch 8/25\n",
      "1719/1719 [==============================] - 8s 5ms/step - loss: 0.2781 - accuracy: 0.9013 - val_loss: 0.3385 - val_accuracy: 0.8782\n",
      "Epoch 9/25\n",
      "1719/1719 [==============================] - 8s 5ms/step - loss: 0.2701 - accuracy: 0.9043 - val_loss: 0.3256 - val_accuracy: 0.8850\n",
      "Epoch 10/25\n",
      "1719/1719 [==============================] - 8s 5ms/step - loss: 0.2630 - accuracy: 0.9061 - val_loss: 0.3219 - val_accuracy: 0.8836\n",
      "Epoch 11/25\n",
      "1719/1719 [==============================] - 8s 5ms/step - loss: 0.2573 - accuracy: 0.9086 - val_loss: 0.3230 - val_accuracy: 0.8842\n",
      "Epoch 12/25\n",
      "1719/1719 [==============================] - 8s 5ms/step - loss: 0.2513 - accuracy: 0.9114 - val_loss: 0.3295 - val_accuracy: 0.8820\n",
      "Epoch 13/25\n",
      "1719/1719 [==============================] - 8s 5ms/step - loss: 0.2461 - accuracy: 0.9132 - val_loss: 0.3223 - val_accuracy: 0.8876\n",
      "Epoch 14/25\n",
      "1719/1719 [==============================] - 8s 5ms/step - loss: 0.2420 - accuracy: 0.9145 - val_loss: 0.3230 - val_accuracy: 0.8862\n",
      "Epoch 15/25\n",
      "1719/1719 [==============================] - 10s 6ms/step - loss: 0.2371 - accuracy: 0.9163 - val_loss: 0.3177 - val_accuracy: 0.8868\n",
      "Epoch 16/25\n",
      "1719/1719 [==============================] - 10s 6ms/step - loss: 0.2332 - accuracy: 0.9181 - val_loss: 0.3159 - val_accuracy: 0.8892\n",
      "Epoch 17/25\n",
      "1719/1719 [==============================] - 9s 5ms/step - loss: 0.2296 - accuracy: 0.9194 - val_loss: 0.3200 - val_accuracy: 0.8866\n",
      "Epoch 18/25\n",
      "1719/1719 [==============================] - 8s 5ms/step - loss: 0.2257 - accuracy: 0.9218 - val_loss: 0.3146 - val_accuracy: 0.8876\n",
      "Epoch 19/25\n",
      "1719/1719 [==============================] - 11s 7ms/step - loss: 0.2227 - accuracy: 0.9220 - val_loss: 0.3190 - val_accuracy: 0.8862\n",
      "Epoch 20/25\n",
      "1719/1719 [==============================] - 10s 6ms/step - loss: 0.2194 - accuracy: 0.9231 - val_loss: 0.3152 - val_accuracy: 0.8886\n",
      "Epoch 21/25\n",
      "1719/1719 [==============================] - 12s 7ms/step - loss: 0.2160 - accuracy: 0.9240 - val_loss: 0.3167 - val_accuracy: 0.8896\n",
      "Epoch 22/25\n",
      "1719/1719 [==============================] - 11s 7ms/step - loss: 0.2136 - accuracy: 0.9252 - val_loss: 0.3137 - val_accuracy: 0.8894\n",
      "Epoch 23/25\n",
      "1719/1719 [==============================] - 12s 7ms/step - loss: 0.2108 - accuracy: 0.9255 - val_loss: 0.3169 - val_accuracy: 0.8900\n",
      "Epoch 24/25\n",
      "1719/1719 [==============================] - 11s 6ms/step - loss: 0.2079 - accuracy: 0.9275 - val_loss: 0.3165 - val_accuracy: 0.8904\n",
      "Epoch 25/25\n",
      "1719/1719 [==============================] - 12s 7ms/step - loss: 0.2059 - accuracy: 0.9277 - val_loss: 0.3156 - val_accuracy: 0.8900\n"
     ]
    }
   ],
   "source": [
    "n_epochs = 25\n",
    "history = model.fit(X_train_scaled, y_train, epochs=n_epochs,\n",
    "                    validation_data=(X_valid_scaled, y_valid))"
   ]
  },
  {
   "cell_type": "code",
   "execution_count": 30,
   "metadata": {},
   "outputs": [
    {
     "data": {
      "image/png": "[encoded data removed]",
      "text/plain": [
       "<Figure size 640x480 with 1 Axes>"
      ]
     },
     "metadata": {},
     "output_type": "display_data"
    }
   ],
   "source": [
    "import math\n",
    "\n",
    "learning_rate = 0.01\n",
    "decay = 1e-4\n",
    "batch_size = 32\n",
    "n_steps_per_epoch = math.ceil(len(X_train) / batch_size)\n",
    "epochs = np.arange(n_epochs)\n",
    "lrs = learning_rate / (1 + decay * epochs * n_steps_per_epoch)\n",
    "\n",
    "plt.plot(epochs, lrs,  \"o-\")\n",
    "plt.axis([0, n_epochs - 1, 0, 0.01])\n",
    "plt.xlabel(\"Epoch\")\n",
    "plt.ylabel(\"Learning Rate\")\n",
    "plt.title(\"Power Scheduling\", fontsize=14)\n",
    "plt.grid(True)\n",
    "plt.show()"
   ]
  },
  {
   "attachments": {},
   "cell_type": "markdown",
   "metadata": {},
   "source": [
    "### Exponential Scheduling"
   ]
  },
  {
   "cell_type": "code",
   "execution_count": 31,
   "metadata": {},
   "outputs": [],
   "source": [
    "def exponential_decay(lr0, s):\n",
    "    def exponential_decay_fn(epoch):\n",
    "        return lr0 * 0.1**(epoch/s)\n",
    "    return exponential_decay_fn\n",
    "\n",
    "\n",
    "exponential_decay_fn = exponential_decay(lr0=0.001, s=20)"
   ]
  },
  {
   "cell_type": "code",
   "execution_count": 34,
   "metadata": {},
   "outputs": [],
   "source": [
    "model = keras.models.Sequential([\n",
    "    keras.layers.Flatten(input_shape=[28, 28]),\n",
    "    keras.layers.Dense(300, activation=\"selu\", kernel_initializer=\"lecun_normal\"),\n",
    "    keras.layers.Dense(100, activation=\"selu\", kernel_initializer=\"lecun_normal\"),\n",
    "    keras.layers.Dense(10, activation=\"softmax\")\n",
    "])\n",
    "model.compile(loss=\"sparse_categorical_crossentropy\", optimizer=\"nadam\", metrics=[\"accuracy\"])\n",
    "n_epochs = 25"
   ]
  },
  {
   "cell_type": "code",
   "execution_count": 35,
   "metadata": {},
   "outputs": [
    {
     "name": "stdout",
     "output_type": "stream",
     "text": [
      "Epoch 1/25\n",
      "1719/1719 [==============================] - 16s 9ms/step - loss: 0.4757 - accuracy: 0.8352 - val_loss: 0.3640 - val_accuracy: 0.8674 - lr: 0.0010\n",
      "Epoch 2/25\n",
      "1719/1719 [==============================] - 16s 10ms/step - loss: 0.3353 - accuracy: 0.8787 - val_loss: 0.3782 - val_accuracy: 0.8670 - lr: 8.9125e-04\n",
      "Epoch 3/25\n",
      "1719/1719 [==============================] - 16s 9ms/step - loss: 0.2887 - accuracy: 0.8931 - val_loss: 0.3285 - val_accuracy: 0.8830 - lr: 7.9433e-04\n",
      "Epoch 4/25\n",
      "1719/1719 [==============================] - 15s 9ms/step - loss: 0.2574 - accuracy: 0.9033 - val_loss: 0.3161 - val_accuracy: 0.8872 - lr: 7.0795e-04\n",
      "Epoch 5/25\n",
      "1719/1719 [==============================] - 15s 9ms/step - loss: 0.2277 - accuracy: 0.9150 - val_loss: 0.3107 - val_accuracy: 0.8950 - lr: 6.3096e-04\n",
      "Epoch 6/25\n",
      "1719/1719 [==============================] - 15s 9ms/step - loss: 0.2029 - accuracy: 0.9237 - val_loss: 0.3187 - val_accuracy: 0.8928 - lr: 5.6234e-04\n",
      "Epoch 7/25\n",
      "1719/1719 [==============================] - 14s 8ms/step - loss: 0.1782 - accuracy: 0.9332 - val_loss: 0.3363 - val_accuracy: 0.8940 - lr: 5.0119e-04\n",
      "Epoch 8/25\n",
      "1719/1719 [==============================] - 13s 8ms/step - loss: 0.1560 - accuracy: 0.9412 - val_loss: 0.3512 - val_accuracy: 0.8954 - lr: 4.4668e-04\n",
      "Epoch 9/25\n",
      "1719/1719 [==============================] - 15s 9ms/step - loss: 0.1359 - accuracy: 0.9492 - val_loss: 0.3564 - val_accuracy: 0.8988 - lr: 3.9811e-04\n",
      "Epoch 10/25\n",
      "1719/1719 [==============================] - 15s 8ms/step - loss: 0.1201 - accuracy: 0.9555 - val_loss: 0.3617 - val_accuracy: 0.9006 - lr: 3.5481e-04\n",
      "Epoch 11/25\n",
      "1719/1719 [==============================] - 14s 8ms/step - loss: 0.1051 - accuracy: 0.9606 - val_loss: 0.3691 - val_accuracy: 0.9014 - lr: 3.1623e-04\n",
      "Epoch 12/25\n",
      "1719/1719 [==============================] - 14s 8ms/step - loss: 0.0912 - accuracy: 0.9674 - val_loss: 0.3850 - val_accuracy: 0.8950 - lr: 2.8184e-04\n",
      "Epoch 13/25\n",
      "1719/1719 [==============================] - 15s 8ms/step - loss: 0.0800 - accuracy: 0.9715 - val_loss: 0.3885 - val_accuracy: 0.9020 - lr: 2.5119e-04\n",
      "Epoch 14/25\n",
      "1719/1719 [==============================] - 14s 8ms/step - loss: 0.0692 - accuracy: 0.9769 - val_loss: 0.4028 - val_accuracy: 0.9008 - lr: 2.2387e-04\n",
      "Epoch 15/25\n",
      "1719/1719 [==============================] - 14s 8ms/step - loss: 0.0599 - accuracy: 0.9798 - val_loss: 0.4092 - val_accuracy: 0.9004 - lr: 1.9953e-04\n",
      "Epoch 16/25\n",
      "1719/1719 [==============================] - 14s 8ms/step - loss: 0.0528 - accuracy: 0.9835 - val_loss: 0.4245 - val_accuracy: 0.9010 - lr: 1.7783e-04\n",
      "Epoch 17/25\n",
      "1719/1719 [==============================] - 14s 8ms/step - loss: 0.0456 - accuracy: 0.9858 - val_loss: 0.4418 - val_accuracy: 0.8968 - lr: 1.5849e-04\n",
      "Epoch 18/25\n",
      "1719/1719 [==============================] - 13s 8ms/step - loss: 0.0399 - accuracy: 0.9881 - val_loss: 0.4502 - val_accuracy: 0.8986 - lr: 1.4125e-04\n",
      "Epoch 19/25\n",
      "1719/1719 [==============================] - 13s 8ms/step - loss: 0.0354 - accuracy: 0.9893 - val_loss: 0.4548 - val_accuracy: 0.9002 - lr: 1.2589e-04\n",
      "Epoch 20/25\n",
      "1719/1719 [==============================] - 14s 8ms/step - loss: 0.0306 - accuracy: 0.9919 - val_loss: 0.4660 - val_accuracy: 0.9010 - lr: 1.1220e-04\n",
      "Epoch 21/25\n",
      "1719/1719 [==============================] - 13s 8ms/step - loss: 0.0271 - accuracy: 0.9928 - val_loss: 0.4822 - val_accuracy: 0.8998 - lr: 1.0000e-04\n",
      "Epoch 22/25\n",
      "1719/1719 [==============================] - 16s 9ms/step - loss: 0.0241 - accuracy: 0.9938 - val_loss: 0.4846 - val_accuracy: 0.9000 - lr: 8.9125e-05\n",
      "Epoch 23/25\n",
      "1719/1719 [==============================] - 16s 9ms/step - loss: 0.0214 - accuracy: 0.9949 - val_loss: 0.5024 - val_accuracy: 0.9006 - lr: 7.9433e-05\n",
      "Epoch 24/25\n",
      "1719/1719 [==============================] - 15s 9ms/step - loss: 0.0190 - accuracy: 0.9958 - val_loss: 0.5025 - val_accuracy: 0.9016 - lr: 7.0795e-05\n",
      "Epoch 25/25\n",
      "1719/1719 [==============================] - 15s 9ms/step - loss: 0.0171 - accuracy: 0.9967 - val_loss: 0.5137 - val_accuracy: 0.9006 - lr: 6.3096e-05\n"
     ]
    }
   ],
   "source": [
    "lr_scheduler = keras.callbacks.LearningRateScheduler(exponential_decay_fn)\n",
    "history = model.fit(X_train_scaled, y_train, epochs=n_epochs,\n",
    "                    validation_data=(X_valid_scaled, y_valid),\n",
    "                    callbacks = [lr_scheduler])"
   ]
  },
  {
   "cell_type": "code",
   "execution_count": 36,
   "metadata": {},
   "outputs": [
    {
     "data": {
      "image/png": "[encoded data removed]",
      "text/plain": [
       "<Figure size 640x480 with 1 Axes>"
      ]
     },
     "metadata": {},
     "output_type": "display_data"
    }
   ],
   "source": [
    "plt.plot(history.epoch, history.history[\"lr\"], \"o-\")\n",
    "plt.axis([0, n_epochs - 1, 0, 0.011])\n",
    "plt.xlabel(\"Epoch\")\n",
    "plt.ylabel(\"Learning Rate\")\n",
    "plt.title(\"Exponential Scheduling\", fontsize=14)\n",
    "plt.grid(True)\n",
    "plt.show()"
   ]
  },
  {
   "attachments": {},
   "cell_type": "markdown",
   "metadata": {},
   "source": [
    "### 1Cycle scheduling"
   ]
  },
  {
   "cell_type": "code",
   "execution_count": 54,
   "metadata": {},
   "outputs": [],
   "source": [
    "K = keras.backend\n",
    "\n",
    "class ExponentialLearningRate(keras.callbacks.Callback):\n",
    "    def __init__(self, factor):\n",
    "        self.factor = factor\n",
    "        self.rates = []\n",
    "        self.losses = []\n",
    "    def on_batch_end(self, batch, logs):\n",
    "        self.rates.append(K.get_value(self.model.optimizer.learning_rate))\n",
    "        self.losses.append(logs[\"loss\"])\n",
    "        K.set_value(self.model.optimizer.learning_rate, self.model.optimizer.learning_rate * self.factor)\n",
    "\n",
    "def find_learning_rate(model, X, y, epochs=1, batch_size=32, min_rate=10**-5, max_rate=10):\n",
    "    init_weights = model.get_weights()\n",
    "    iterations = math.ceil(len(X) / batch_size) * epochs\n",
    "    factor = np.exp(np.log(max_rate / min_rate) / iterations)\n",
    "    init_lr = K.get_value(model.optimizer.learning_rate)\n",
    "    K.set_value(model.optimizer.learning_rate, min_rate)\n",
    "    exp_lr = ExponentialLearningRate(factor)\n",
    "    history = model.fit(X, y, epochs=epochs, batch_size=batch_size,\n",
    "                        callbacks=[exp_lr])\n",
    "    K.set_value(model.optimizer.learning_rate, init_lr)\n",
    "    model.set_weights(init_weights)\n",
    "    return exp_lr.rates, exp_lr.losses"
   ]
  },
  {
   "cell_type": "code",
   "execution_count": 55,
   "metadata": {},
   "outputs": [],
   "source": [
    "def plot_lr_vs_loss(rates, losses):\n",
    "    plt.plot(rates, losses)\n",
    "    plt.gca().set_xscale('log')\n",
    "    plt.hlines(min(losses), min(rates), max(rates))\n",
    "    plt.axis([min(rates), max(rates), min(losses), (losses[0] + min(losses)) / 2])\n",
    "    plt.xlabel(\"Learning rate\")\n",
    "    plt.ylabel(\"Loss\")"
   ]
  },
  {
   "cell_type": "code",
   "execution_count": 56,
   "metadata": {},
   "outputs": [],
   "source": [
    "tf.random.set_seed(42)\n",
    "np.random.seed(42)\n",
    "\n",
    "model = keras.models.Sequential([\n",
    "    keras.layers.Flatten(input_shape=[28, 28]),\n",
    "    keras.layers.Dense(300, activation=\"selu\", kernel_initializer=\"lecun_normal\"),\n",
    "    keras.layers.Dense(100, activation=\"selu\", kernel_initializer=\"lecun_normal\"),\n",
    "    keras.layers.Dense(10, activation=\"softmax\")\n",
    "])\n",
    "model.compile(loss=\"sparse_categorical_crossentropy\",\n",
    "                optimizer=keras.optimizers.SGD(learning_rate=1e-3),\n",
    "                metrics=[\"accuracy\"])"
   ]
  },
  {
   "cell_type": "code",
   "execution_count": 57,
   "metadata": {},
   "outputs": [
    {
     "name": "stdout",
     "output_type": "stream",
     "text": [
      "430/430 [==============================] - 3s 6ms/step - loss: nan - accuracy: 0.3955\n"
     ]
    },
    {
     "data": {
      "image/png": "[encoded data removed]",
      "text/plain": [
       "<Figure size 640x480 with 1 Axes>"
      ]
     },
     "metadata": {},
     "output_type": "display_data"
    }
   ],
   "source": [
    "batch_size = 128\n",
    "rates, losses = find_learning_rate(model, X_train_scaled, y_train, epochs=1, batch_size=batch_size)\n",
    "plot_lr_vs_loss(rates, losses)"
   ]
  },
  {
   "cell_type": "code",
   "execution_count": 58,
   "metadata": {},
   "outputs": [],
   "source": [
    "class OneCycleScheduler(keras.callbacks.Callback):\n",
    "    def __init__(self, iterations, max_rate, start_rate=None,\n",
    "                last_iterations=None, last_rate=None):\n",
    "        self.iterations = iterations\n",
    "        self.max_rate = max_rate\n",
    "        self.start_rate = start_rate or max_rate / 10\n",
    "        self.last_iterations = last_iterations or iterations // 10 + 1\n",
    "        self.half_iteration = (iterations - self.last_iterations) // 2\n",
    "        self.last_rate = last_rate or self.start_rate / 1000\n",
    "        self.iteration = 0\n",
    "    def _interpolate(self, iter1, iter2, rate1, rate2):\n",
    "        return ((rate2 - rate1) * (self.iteration - iter1)\n",
    "                / (iter2 - iter1) + rate1)\n",
    "    def on_batch_begin(self, batch, logs):\n",
    "        if self.iteration < self.half_iteration:\n",
    "            rate = self._interpolate(0, self.half_iteration, self.start_rate, self.max_rate)\n",
    "        elif self.iteration < 2 * self.half_iteration:\n",
    "            rate = self._interpolate(self.half_iteration, 2 * self.half_iteration,\n",
    "                                    self.max_rate, self.start_rate)\n",
    "        else:\n",
    "            rate = self._interpolate(2 * self.half_iteration, self.iterations,\n",
    "                                    self.start_rate, self.last_rate)\n",
    "        self.iteration += 1\n",
    "        K.set_value(self.model.optimizer.learning_rate, rate)"
   ]
  },
  {
   "cell_type": "code",
   "execution_count": 59,
   "metadata": {},
   "outputs": [
    {
     "name": "stdout",
     "output_type": "stream",
     "text": [
      "Epoch 1/25\n",
      "430/430 [==============================] - 3s 6ms/step - loss: 0.6463 - accuracy: 0.7791 - val_loss: 0.4851 - val_accuracy: 0.8332\n",
      "Epoch 2/25\n",
      "430/430 [==============================] - 3s 6ms/step - loss: 0.4527 - accuracy: 0.8418 - val_loss: 0.4295 - val_accuracy: 0.8538\n",
      "Epoch 3/25\n",
      "430/430 [==============================] - 2s 6ms/step - loss: 0.4083 - accuracy: 0.8557 - val_loss: 0.4153 - val_accuracy: 0.8540\n",
      "Epoch 4/25\n",
      "430/430 [==============================] - 2s 6ms/step - loss: 0.3798 - accuracy: 0.8659 - val_loss: 0.3837 - val_accuracy: 0.8638\n",
      "Epoch 5/25\n",
      "430/430 [==============================] - 3s 6ms/step - loss: 0.3594 - accuracy: 0.8728 - val_loss: 0.3717 - val_accuracy: 0.8702\n",
      "Epoch 6/25\n",
      "430/430 [==============================] - 3s 6ms/step - loss: 0.3407 - accuracy: 0.8796 - val_loss: 0.3676 - val_accuracy: 0.8752\n",
      "Epoch 7/25\n",
      "430/430 [==============================] - 2s 6ms/step - loss: 0.3274 - accuracy: 0.8825 - val_loss: 0.3539 - val_accuracy: 0.8752\n",
      "Epoch 8/25\n",
      "430/430 [==============================] - 3s 6ms/step - loss: 0.3125 - accuracy: 0.8874 - val_loss: 0.3884 - val_accuracy: 0.8604\n",
      "Epoch 9/25\n",
      "430/430 [==============================] - 3s 6ms/step - loss: 0.2999 - accuracy: 0.8918 - val_loss: 0.3405 - val_accuracy: 0.8776\n",
      "Epoch 10/25\n",
      "430/430 [==============================] - 3s 6ms/step - loss: 0.2880 - accuracy: 0.8956 - val_loss: 0.3289 - val_accuracy: 0.8870\n",
      "Epoch 11/25\n",
      "430/430 [==============================] - 3s 6ms/step - loss: 0.2773 - accuracy: 0.8977 - val_loss: 0.3467 - val_accuracy: 0.8822\n",
      "Epoch 12/25\n",
      "430/430 [==============================] - 3s 6ms/step - loss: 0.2645 - accuracy: 0.9051 - val_loss: 0.3668 - val_accuracy: 0.8692\n",
      "Epoch 13/25\n",
      "430/430 [==============================] - 3s 6ms/step - loss: 0.2475 - accuracy: 0.9101 - val_loss: 0.3234 - val_accuracy: 0.8900\n",
      "Epoch 14/25\n",
      "430/430 [==============================] - 3s 6ms/step - loss: 0.2341 - accuracy: 0.9151 - val_loss: 0.3354 - val_accuracy: 0.8858\n",
      "Epoch 15/25\n",
      "430/430 [==============================] - 2s 6ms/step - loss: 0.2223 - accuracy: 0.9207 - val_loss: 0.3219 - val_accuracy: 0.8848\n",
      "Epoch 16/25\n",
      "430/430 [==============================] - 3s 6ms/step - loss: 0.2107 - accuracy: 0.9246 - val_loss: 0.3201 - val_accuracy: 0.8846\n",
      "Epoch 17/25\n",
      "430/430 [==============================] - 3s 6ms/step - loss: 0.2007 - accuracy: 0.9287 - val_loss: 0.3231 - val_accuracy: 0.8878\n",
      "Epoch 18/25\n",
      "430/430 [==============================] - 2s 6ms/step - loss: 0.1924 - accuracy: 0.9328 - val_loss: 0.3127 - val_accuracy: 0.8938\n",
      "Epoch 19/25\n",
      "430/430 [==============================] - 3s 6ms/step - loss: 0.1841 - accuracy: 0.9360 - val_loss: 0.3119 - val_accuracy: 0.8910\n",
      "Epoch 20/25\n",
      "430/430 [==============================] - 3s 6ms/step - loss: 0.1773 - accuracy: 0.9389 - val_loss: 0.3119 - val_accuracy: 0.8906\n",
      "Epoch 21/25\n",
      "430/430 [==============================] - 3s 6ms/step - loss: 0.1705 - accuracy: 0.9415 - val_loss: 0.3104 - val_accuracy: 0.8938\n",
      "Epoch 22/25\n",
      "430/430 [==============================] - 3s 6ms/step - loss: 0.1654 - accuracy: 0.9435 - val_loss: 0.3083 - val_accuracy: 0.8940\n",
      "Epoch 23/25\n",
      "430/430 [==============================] - 3s 6ms/step - loss: 0.1607 - accuracy: 0.9461 - val_loss: 0.3080 - val_accuracy: 0.8944\n",
      "Epoch 24/25\n",
      "430/430 [==============================] - 3s 6ms/step - loss: 0.1580 - accuracy: 0.9477 - val_loss: 0.3076 - val_accuracy: 0.8952\n",
      "Epoch 25/25\n",
      "430/430 [==============================] - 3s 6ms/step - loss: 0.1562 - accuracy: 0.9481 - val_loss: 0.3068 - val_accuracy: 0.8940\n"
     ]
    }
   ],
   "source": [
    "n_epochs = 25\n",
    "onecycle = OneCycleScheduler(math.ceil(len(X_train) / batch_size) * n_epochs, max_rate=0.05)\n",
    "history = model.fit(X_train_scaled, y_train, epochs=n_epochs, batch_size=batch_size,\n",
    "                    validation_data=(X_valid_scaled, y_valid),\n",
    "                    callbacks=[onecycle])"
   ]
  },
  {
   "cell_type": "markdown",
   "metadata": {},
   "source": [
    "## Avoiding Overfitting Through Regularization"
   ]
  },
  {
   "attachments": {},
   "cell_type": "markdown",
   "metadata": {},
   "source": [
    "#### $l_1$ and $l_2$ Regularization"
   ]
  },
  {
   "cell_type": "code",
   "execution_count": 39,
   "metadata": {},
   "outputs": [
    {
     "name": "stdout",
     "output_type": "stream",
     "text": [
      "Epoch 1/20\n",
      "1719/1719 [==============================] - 19s 11ms/step - loss: 1.6135 - accuracy: 0.8110 - val_loss: 0.7218 - val_accuracy: 0.8308\n",
      "Epoch 2/20\n",
      "1719/1719 [==============================] - 20s 12ms/step - loss: 0.7199 - accuracy: 0.8274 - val_loss: 0.6848 - val_accuracy: 0.8374\n",
      "Epoch 3/20\n",
      "1719/1719 [==============================] - 18s 11ms/step - loss: 0.7027 - accuracy: 0.8321 - val_loss: 0.7003 - val_accuracy: 0.8366\n",
      "Epoch 4/20\n",
      "1719/1719 [==============================] - 15s 9ms/step - loss: 0.6969 - accuracy: 0.8356 - val_loss: 0.6768 - val_accuracy: 0.8438\n",
      "Epoch 5/20\n",
      "1719/1719 [==============================] - 17s 10ms/step - loss: 0.6925 - accuracy: 0.8369 - val_loss: 0.6648 - val_accuracy: 0.8496\n",
      "Epoch 6/20\n",
      "1719/1719 [==============================] - 19s 11ms/step - loss: 0.6899 - accuracy: 0.8373 - val_loss: 0.6653 - val_accuracy: 0.8524\n",
      "Epoch 7/20\n",
      "1719/1719 [==============================] - 19s 11ms/step - loss: 0.6882 - accuracy: 0.8393 - val_loss: 0.6633 - val_accuracy: 0.8502\n",
      "Epoch 8/20\n",
      "1719/1719 [==============================] - 20s 11ms/step - loss: 0.6864 - accuracy: 0.8403 - val_loss: 0.7312 - val_accuracy: 0.8242\n",
      "Epoch 9/20\n",
      "1719/1719 [==============================] - 19s 11ms/step - loss: 0.6849 - accuracy: 0.8388 - val_loss: 0.6600 - val_accuracy: 0.8514\n",
      "Epoch 10/20\n",
      "1719/1719 [==============================] - 17s 10ms/step - loss: 0.6810 - accuracy: 0.8402 - val_loss: 0.6554 - val_accuracy: 0.8548\n",
      "Epoch 11/20\n",
      "1719/1719 [==============================] - 18s 10ms/step - loss: 0.6807 - accuracy: 0.8413 - val_loss: 0.6619 - val_accuracy: 0.8488\n",
      "Epoch 12/20\n",
      "1719/1719 [==============================] - 17s 10ms/step - loss: 0.6805 - accuracy: 0.8403 - val_loss: 0.6906 - val_accuracy: 0.8290\n",
      "Epoch 13/20\n",
      "1719/1719 [==============================] - 14s 8ms/step - loss: 0.6774 - accuracy: 0.8420 - val_loss: 0.6829 - val_accuracy: 0.8436\n",
      "Epoch 14/20\n",
      "1719/1719 [==============================] - 14s 8ms/step - loss: 0.6787 - accuracy: 0.8411 - val_loss: 0.6811 - val_accuracy: 0.8400\n",
      "Epoch 15/20\n",
      "1719/1719 [==============================] - 16s 9ms/step - loss: 0.6770 - accuracy: 0.8427 - val_loss: 0.6575 - val_accuracy: 0.8524\n"
     ]
    }
   ],
   "source": [
    "model = keras.models.Sequential([\n",
    "    keras.layers.Flatten(input_shape=[28, 28]),\n",
    "    keras.layers.Dense(300, activation=\"elu\",\n",
    "                        kernel_initializer=\"he_normal\",\n",
    "                        kernel_regularizer=keras.regularizers.l2(0.01)),\n",
    "    keras.layers.Dense(100, activation=\"elu\",\n",
    "                        kernel_initializer=\"he_normal\",\n",
    "                        kernel_regularizer=keras.regularizers.l2(0.01)),\n",
    "    keras.layers.Dense(10, activation=\"softmax\",\n",
    "                        kernel_regularizer=keras.regularizers.l2(0.01))\n",
    "])\n",
    "model.compile(loss=\"sparse_categorical_crossentropy\", optimizer=\"nadam\", metrics=[\"accuracy\"])\n",
    "n_epochs = 20\n",
    "early_stopping_cb = keras.callbacks.EarlyStopping(patience=5, restore_best_weights=True)\n",
    "history = model.fit(X_train_scaled, y_train, epochs=n_epochs,\n",
    "                    validation_data=(X_valid_scaled, y_valid), callbacks = [early_stopping_cb])"
   ]
  },
  {
   "cell_type": "code",
   "execution_count": 44,
   "metadata": {},
   "outputs": [
    {
     "name": "stdout",
     "output_type": "stream",
     "text": [
      "Epoch 1/2\n",
      "1719/1719 [==============================] - 18s 10ms/step - loss: 1.6580 - accuracy: 0.8120 - val_loss: 0.7125 - val_accuracy: 0.8352\n",
      "Epoch 2/2\n",
      "1719/1719 [==============================] - 18s 11ms/step - loss: 0.7173 - accuracy: 0.8274 - val_loss: 0.6787 - val_accuracy: 0.8392\n"
     ]
    }
   ],
   "source": [
    "from functools import partial\n",
    "\n",
    "RegularizedDense = partial(keras.layers.Dense,\n",
    "                            activation = \"elu\",\n",
    "                            kernel_initializer = 'he_normal',\n",
    "                            kernel_regularizer = keras.regularizers.l2(0.01))\n",
    "\n",
    "model = keras.models.Sequential([\n",
    "    keras.layers.Flatten(input_shape = [28, 28]),\n",
    "    RegularizedDense(300),\n",
    "    RegularizedDense(100),\n",
    "    RegularizedDense(10, activation = 'softmax', kernel_initializer = 'glorot_uniform')\n",
    "])\n",
    "model.compile(loss=\"sparse_categorical_crossentropy\", optimizer=\"nadam\", metrics=[\"accuracy\"])\n",
    "n_epochs = 2\n",
    "history = model.fit(X_train_scaled, y_train, epochs=n_epochs,\n",
    "                    validation_data=(X_valid_scaled, y_valid))"
   ]
  },
  {
   "attachments": {},
   "cell_type": "markdown",
   "metadata": {},
   "source": [
    "### Dropout"
   ]
  },
  {
   "cell_type": "code",
   "execution_count": 45,
   "metadata": {},
   "outputs": [
    {
     "name": "stdout",
     "output_type": "stream",
     "text": [
      "Epoch 1/2\n",
      "1719/1719 [==============================] - 16s 9ms/step - loss: 0.5710 - accuracy: 0.8051 - val_loss: 0.3611 - val_accuracy: 0.8662\n",
      "Epoch 2/2\n",
      "1719/1719 [==============================] - 16s 10ms/step - loss: 0.4212 - accuracy: 0.8440 - val_loss: 0.3424 - val_accuracy: 0.8702\n"
     ]
    }
   ],
   "source": [
    "model = keras.models.Sequential([\n",
    "    keras.layers.Flatten(input_shape=[28, 28]),\n",
    "    keras.layers.Dropout(rate=0.2),\n",
    "    keras.layers.Dense(300, activation=\"elu\", kernel_initializer=\"he_normal\"),\n",
    "    keras.layers.Dropout(rate=0.2),\n",
    "    keras.layers.Dense(100, activation=\"elu\", kernel_initializer=\"he_normal\"),\n",
    "    keras.layers.Dropout(rate=0.2),\n",
    "    keras.layers.Dense(10, activation=\"softmax\")\n",
    "])\n",
    "model.compile(loss=\"sparse_categorical_crossentropy\", optimizer=\"nadam\", metrics=[\"accuracy\"])\n",
    "n_epochs = 2\n",
    "history = model.fit(X_train_scaled, y_train, epochs=n_epochs,\n",
    "                    validation_data=(X_valid_scaled, y_valid))"
   ]
  },
  {
   "attachments": {},
   "cell_type": "markdown",
   "metadata": {},
   "source": [
    "### Alpha Dropout"
   ]
  },
  {
   "cell_type": "code",
   "execution_count": 46,
   "metadata": {},
   "outputs": [],
   "source": [
    "model = keras.models.Sequential([\n",
    "    keras.layers.Flatten(input_shape=[28, 28]),\n",
    "    keras.layers.AlphaDropout(rate=0.2),\n",
    "    keras.layers.Dense(300, activation=\"selu\", kernel_initializer=\"lecun_normal\"),\n",
    "    keras.layers.AlphaDropout(rate=0.2),\n",
    "    keras.layers.Dense(100, activation=\"selu\", kernel_initializer=\"lecun_normal\"),\n",
    "    keras.layers.AlphaDropout(rate=0.2),\n",
    "    keras.layers.Dense(10, activation=\"softmax\")\n",
    "])\n",
    "optimizer = keras.optimizers.SGD(learning_rate=0.01, momentum=0.9, nesterov=True)\n",
    "model.compile(loss=\"sparse_categorical_crossentropy\", optimizer=optimizer, metrics=[\"accuracy\"])\n",
    "n_epochs = 20"
   ]
  },
  {
   "cell_type": "code",
   "execution_count": 47,
   "metadata": {},
   "outputs": [
    {
     "name": "stdout",
     "output_type": "stream",
     "text": [
      "Epoch 1/20\n",
      "1719/1719 [==============================] - 11s 6ms/step - loss: 0.6617 - accuracy: 0.7603 - val_loss: 0.5722 - val_accuracy: 0.8490\n",
      "Epoch 2/20\n",
      "1719/1719 [==============================] - 12s 7ms/step - loss: 0.5563 - accuracy: 0.7954 - val_loss: 0.5656 - val_accuracy: 0.8460\n",
      "Epoch 3/20\n",
      "1719/1719 [==============================] - 12s 7ms/step - loss: 0.5258 - accuracy: 0.8045 - val_loss: 0.5044 - val_accuracy: 0.8596\n",
      "Epoch 4/20\n",
      "1719/1719 [==============================] - 12s 7ms/step - loss: 0.5048 - accuracy: 0.8140 - val_loss: 0.4557 - val_accuracy: 0.8614\n",
      "Epoch 5/20\n",
      "1719/1719 [==============================] - 11s 6ms/step - loss: 0.4886 - accuracy: 0.8185 - val_loss: 0.4479 - val_accuracy: 0.8620\n",
      "Epoch 6/20\n",
      "1719/1719 [==============================] - 11s 7ms/step - loss: 0.4822 - accuracy: 0.8209 - val_loss: 0.4527 - val_accuracy: 0.8652\n",
      "Epoch 7/20\n",
      "1719/1719 [==============================] - 12s 7ms/step - loss: 0.4667 - accuracy: 0.8257 - val_loss: 0.4798 - val_accuracy: 0.8544\n",
      "Epoch 8/20\n",
      "1719/1719 [==============================] - 13s 7ms/step - loss: 0.4667 - accuracy: 0.8283 - val_loss: 0.4632 - val_accuracy: 0.8644\n",
      "Epoch 9/20\n",
      "1719/1719 [==============================] - 12s 7ms/step - loss: 0.4595 - accuracy: 0.8297 - val_loss: 0.4322 - val_accuracy: 0.8694\n",
      "Epoch 10/20\n",
      "1719/1719 [==============================] - 12s 7ms/step - loss: 0.4519 - accuracy: 0.8319 - val_loss: 0.4361 - val_accuracy: 0.8692\n",
      "Epoch 11/20\n",
      "1719/1719 [==============================] - 13s 7ms/step - loss: 0.4513 - accuracy: 0.8333 - val_loss: 0.4262 - val_accuracy: 0.8682\n",
      "Epoch 12/20\n",
      "1719/1719 [==============================] - 12s 7ms/step - loss: 0.4447 - accuracy: 0.8335 - val_loss: 0.5449 - val_accuracy: 0.8576\n",
      "Epoch 13/20\n",
      "1719/1719 [==============================] - 11s 6ms/step - loss: 0.4410 - accuracy: 0.8351 - val_loss: 0.4365 - val_accuracy: 0.8754\n",
      "Epoch 14/20\n",
      "1719/1719 [==============================] - 11s 6ms/step - loss: 0.4341 - accuracy: 0.8388 - val_loss: 0.4206 - val_accuracy: 0.8694\n",
      "Epoch 15/20\n",
      "1719/1719 [==============================] - 12s 7ms/step - loss: 0.4326 - accuracy: 0.8394 - val_loss: 0.4280 - val_accuracy: 0.8750\n",
      "Epoch 16/20\n",
      "1719/1719 [==============================] - 12s 7ms/step - loss: 0.4317 - accuracy: 0.8393 - val_loss: 0.4275 - val_accuracy: 0.8780\n",
      "Epoch 17/20\n",
      "1719/1719 [==============================] - 12s 7ms/step - loss: 0.4294 - accuracy: 0.8402 - val_loss: 0.5400 - val_accuracy: 0.8552\n",
      "Epoch 18/20\n",
      "1719/1719 [==============================] - 11s 7ms/step - loss: 0.4245 - accuracy: 0.8417 - val_loss: 0.4680 - val_accuracy: 0.8680\n",
      "Epoch 19/20\n",
      "1719/1719 [==============================] - 10s 6ms/step - loss: 0.4245 - accuracy: 0.8394 - val_loss: 0.4315 - val_accuracy: 0.8766\n"
     ]
    }
   ],
   "source": [
    "early_stopping_cb = keras.callbacks.EarlyStopping(patience=5, restore_best_weights=True)\n",
    "history = model.fit(X_train_scaled, y_train, epochs=n_epochs,\n",
    "                    validation_data=(X_valid_scaled, y_valid), callbacks = [early_stopping_cb])"
   ]
  },
  {
   "cell_type": "markdown",
   "metadata": {},
   "source": [
    "### MC Dropout"
   ]
  },
  {
   "cell_type": "code",
   "execution_count": 48,
   "metadata": {},
   "outputs": [],
   "source": [
    "y_probas = np.stack([model(X_test_scaled, training=True)\n",
    "                    for sample in range(100)])\n",
    "y_proba = y_probas.mean(axis=0)\n",
    "y_std = y_probas.std(axis=0)"
   ]
  },
  {
   "cell_type": "code",
   "execution_count": 49,
   "metadata": {},
   "outputs": [
    {
     "name": "stdout",
     "output_type": "stream",
     "text": [
      "1/1 [==============================] - 0s 86ms/step\n"
     ]
    },
    {
     "data": {
      "text/plain": [
       "array([[0., 0., 0., 0., 0., 0., 0., 0., 0., 1.]], dtype=float32)"
      ]
     },
     "execution_count": 49,
     "metadata": {},
     "output_type": "execute_result"
    }
   ],
   "source": [
    "np.round(model.predict(X_test_scaled[:1]), 2)"
   ]
  },
  {
   "cell_type": "code",
   "execution_count": 50,
   "metadata": {},
   "outputs": [
    {
     "data": {
      "text/plain": [
       "array([[[0.  , 0.  , 0.  , 0.  , 0.  , 0.03, 0.  , 0.01, 0.  , 0.96]],\n",
       "\n",
       "       [[0.  , 0.  , 0.  , 0.  , 0.  , 0.08, 0.  , 0.12, 0.  , 0.81]],\n",
       "\n",
       "       [[0.  , 0.  , 0.  , 0.  , 0.  , 0.02, 0.  , 0.04, 0.  , 0.94]],\n",
       "\n",
       "       [[0.  , 0.  , 0.  , 0.  , 0.  , 0.  , 0.  , 0.01, 0.  , 0.99]],\n",
       "\n",
       "       [[0.  , 0.  , 0.  , 0.  , 0.  , 0.  , 0.  , 0.05, 0.  , 0.95]],\n",
       "\n",
       "       [[0.  , 0.  , 0.  , 0.  , 0.  , 0.11, 0.  , 0.14, 0.  , 0.75]],\n",
       "\n",
       "       [[0.  , 0.  , 0.  , 0.  , 0.  , 0.  , 0.  , 0.01, 0.  , 0.99]],\n",
       "\n",
       "       [[0.  , 0.  , 0.  , 0.  , 0.  , 0.05, 0.  , 0.08, 0.  , 0.87]],\n",
       "\n",
       "       [[0.  , 0.  , 0.  , 0.  , 0.  , 0.04, 0.  , 0.13, 0.  , 0.84]],\n",
       "\n",
       "       [[0.  , 0.  , 0.  , 0.  , 0.  , 0.  , 0.  , 0.01, 0.  , 0.99]],\n",
       "\n",
       "       [[0.  , 0.  , 0.  , 0.  , 0.  , 0.02, 0.  , 0.03, 0.  , 0.94]],\n",
       "\n",
       "       [[0.  , 0.  , 0.  , 0.  , 0.  , 0.02, 0.  , 0.24, 0.  , 0.74]],\n",
       "\n",
       "       [[0.  , 0.  , 0.  , 0.  , 0.  , 0.19, 0.  , 0.09, 0.  , 0.72]],\n",
       "\n",
       "       [[0.  , 0.  , 0.  , 0.  , 0.  , 0.08, 0.  , 0.2 , 0.  , 0.73]],\n",
       "\n",
       "       [[0.  , 0.  , 0.  , 0.  , 0.  , 0.06, 0.  , 0.09, 0.  , 0.85]],\n",
       "\n",
       "       [[0.  , 0.  , 0.  , 0.  , 0.  , 0.01, 0.  , 0.31, 0.  , 0.68]],\n",
       "\n",
       "       [[0.  , 0.  , 0.  , 0.  , 0.  , 0.01, 0.  , 0.  , 0.  , 0.99]],\n",
       "\n",
       "       [[0.  , 0.  , 0.  , 0.  , 0.  , 0.  , 0.  , 0.02, 0.  , 0.98]],\n",
       "\n",
       "       [[0.  , 0.  , 0.  , 0.  , 0.  , 0.01, 0.  , 0.01, 0.  , 0.98]],\n",
       "\n",
       "       [[0.  , 0.  , 0.  , 0.  , 0.  , 0.01, 0.  , 0.18, 0.  , 0.81]],\n",
       "\n",
       "       [[0.  , 0.  , 0.  , 0.  , 0.  , 0.14, 0.  , 0.05, 0.  , 0.81]],\n",
       "\n",
       "       [[0.  , 0.  , 0.  , 0.  , 0.  , 0.  , 0.  , 0.21, 0.  , 0.79]],\n",
       "\n",
       "       [[0.  , 0.  , 0.  , 0.  , 0.  , 0.  , 0.  , 0.01, 0.  , 0.99]],\n",
       "\n",
       "       [[0.  , 0.  , 0.  , 0.  , 0.  , 0.01, 0.  , 0.01, 0.  , 0.98]],\n",
       "\n",
       "       [[0.  , 0.  , 0.  , 0.  , 0.  , 0.01, 0.  , 0.02, 0.  , 0.98]],\n",
       "\n",
       "       [[0.  , 0.  , 0.  , 0.  , 0.  , 0.  , 0.  , 0.09, 0.  , 0.9 ]],\n",
       "\n",
       "       [[0.  , 0.  , 0.  , 0.  , 0.  , 0.03, 0.  , 0.09, 0.  , 0.88]],\n",
       "\n",
       "       [[0.  , 0.  , 0.  , 0.  , 0.  , 0.  , 0.  , 0.01, 0.  , 0.98]],\n",
       "\n",
       "       [[0.  , 0.  , 0.  , 0.  , 0.  , 0.  , 0.  , 0.04, 0.  , 0.96]],\n",
       "\n",
       "       [[0.  , 0.  , 0.  , 0.  , 0.  , 0.01, 0.  , 0.04, 0.  , 0.95]],\n",
       "\n",
       "       [[0.  , 0.  , 0.  , 0.  , 0.  , 0.  , 0.  , 0.09, 0.  , 0.91]],\n",
       "\n",
       "       [[0.  , 0.  , 0.  , 0.  , 0.  , 0.  , 0.  , 0.02, 0.  , 0.98]],\n",
       "\n",
       "       [[0.  , 0.  , 0.  , 0.  , 0.  , 0.  , 0.  , 0.01, 0.  , 0.99]],\n",
       "\n",
       "       [[0.  , 0.  , 0.  , 0.  , 0.  , 0.07, 0.  , 0.06, 0.  , 0.86]],\n",
       "\n",
       "       [[0.  , 0.  , 0.  , 0.  , 0.  , 0.01, 0.  , 0.02, 0.  , 0.97]],\n",
       "\n",
       "       [[0.  , 0.  , 0.  , 0.  , 0.  , 0.  , 0.  , 0.07, 0.  , 0.92]],\n",
       "\n",
       "       [[0.  , 0.  , 0.  , 0.  , 0.  , 0.  , 0.  , 0.01, 0.  , 0.98]],\n",
       "\n",
       "       [[0.  , 0.  , 0.  , 0.  , 0.  , 0.  , 0.  , 0.  , 0.  , 0.99]],\n",
       "\n",
       "       [[0.  , 0.  , 0.  , 0.  , 0.  , 0.  , 0.  , 0.  , 0.  , 1.  ]],\n",
       "\n",
       "       [[0.  , 0.  , 0.  , 0.  , 0.  , 0.  , 0.  , 0.05, 0.  , 0.94]],\n",
       "\n",
       "       [[0.  , 0.  , 0.  , 0.  , 0.  , 0.  , 0.  , 0.01, 0.  , 0.99]],\n",
       "\n",
       "       [[0.  , 0.  , 0.  , 0.  , 0.  , 0.03, 0.  , 0.01, 0.  , 0.96]],\n",
       "\n",
       "       [[0.  , 0.  , 0.  , 0.  , 0.  , 0.  , 0.  , 0.  , 0.  , 1.  ]],\n",
       "\n",
       "       [[0.  , 0.  , 0.  , 0.  , 0.  , 0.  , 0.  , 0.05, 0.  , 0.95]],\n",
       "\n",
       "       [[0.  , 0.  , 0.  , 0.  , 0.  , 0.  , 0.  , 0.01, 0.  , 0.99]],\n",
       "\n",
       "       [[0.  , 0.  , 0.  , 0.  , 0.  , 0.03, 0.  , 0.34, 0.  , 0.63]],\n",
       "\n",
       "       [[0.  , 0.  , 0.  , 0.  , 0.  , 0.05, 0.  , 0.15, 0.  , 0.8 ]],\n",
       "\n",
       "       [[0.  , 0.  , 0.  , 0.  , 0.  , 0.01, 0.  , 0.3 , 0.  , 0.69]],\n",
       "\n",
       "       [[0.  , 0.  , 0.  , 0.  , 0.  , 0.01, 0.  , 0.62, 0.  , 0.37]],\n",
       "\n",
       "       [[0.  , 0.  , 0.  , 0.  , 0.  , 0.01, 0.  , 0.06, 0.  , 0.93]],\n",
       "\n",
       "       [[0.  , 0.  , 0.  , 0.  , 0.  , 0.01, 0.  , 0.02, 0.  , 0.97]],\n",
       "\n",
       "       [[0.  , 0.  , 0.  , 0.  , 0.  , 0.2 , 0.  , 0.11, 0.  , 0.69]],\n",
       "\n",
       "       [[0.  , 0.  , 0.  , 0.  , 0.  , 0.03, 0.  , 0.1 , 0.  , 0.88]],\n",
       "\n",
       "       [[0.  , 0.  , 0.  , 0.  , 0.  , 0.01, 0.  , 0.14, 0.  , 0.85]],\n",
       "\n",
       "       [[0.  , 0.  , 0.  , 0.  , 0.  , 0.02, 0.  , 0.38, 0.  , 0.6 ]],\n",
       "\n",
       "       [[0.  , 0.  , 0.  , 0.  , 0.  , 0.  , 0.  , 0.02, 0.  , 0.98]],\n",
       "\n",
       "       [[0.  , 0.  , 0.  , 0.  , 0.  , 0.  , 0.  , 0.02, 0.  , 0.98]],\n",
       "\n",
       "       [[0.  , 0.  , 0.  , 0.  , 0.  , 0.01, 0.  , 0.01, 0.  , 0.98]],\n",
       "\n",
       "       [[0.  , 0.  , 0.  , 0.  , 0.  , 0.03, 0.  , 0.04, 0.  , 0.94]],\n",
       "\n",
       "       [[0.  , 0.  , 0.  , 0.  , 0.  , 0.  , 0.  , 0.03, 0.  , 0.97]],\n",
       "\n",
       "       [[0.  , 0.  , 0.  , 0.  , 0.  , 0.  , 0.  , 0.04, 0.  , 0.96]],\n",
       "\n",
       "       [[0.  , 0.  , 0.  , 0.  , 0.  , 0.  , 0.  , 0.22, 0.  , 0.78]],\n",
       "\n",
       "       [[0.  , 0.  , 0.  , 0.  , 0.  , 0.05, 0.  , 0.2 , 0.  , 0.75]],\n",
       "\n",
       "       [[0.  , 0.  , 0.  , 0.  , 0.  , 0.  , 0.  , 0.02, 0.  , 0.97]],\n",
       "\n",
       "       [[0.  , 0.  , 0.  , 0.  , 0.  , 0.  , 0.  , 0.01, 0.  , 0.99]],\n",
       "\n",
       "       [[0.  , 0.  , 0.  , 0.  , 0.  , 0.06, 0.  , 0.28, 0.  , 0.66]],\n",
       "\n",
       "       [[0.  , 0.  , 0.  , 0.  , 0.  , 0.  , 0.  , 0.03, 0.  , 0.96]],\n",
       "\n",
       "       [[0.  , 0.  , 0.  , 0.  , 0.  , 0.01, 0.  , 0.05, 0.  , 0.94]],\n",
       "\n",
       "       [[0.  , 0.  , 0.  , 0.  , 0.  , 0.09, 0.  , 0.1 , 0.  , 0.81]],\n",
       "\n",
       "       [[0.  , 0.  , 0.  , 0.  , 0.  , 0.01, 0.  , 0.01, 0.  , 0.98]],\n",
       "\n",
       "       [[0.  , 0.  , 0.  , 0.  , 0.  , 0.09, 0.  , 0.25, 0.  , 0.67]],\n",
       "\n",
       "       [[0.  , 0.  , 0.  , 0.  , 0.  , 0.  , 0.  , 0.01, 0.  , 0.98]],\n",
       "\n",
       "       [[0.  , 0.  , 0.  , 0.  , 0.  , 0.01, 0.  , 0.08, 0.  , 0.91]],\n",
       "\n",
       "       [[0.  , 0.  , 0.  , 0.  , 0.  , 0.  , 0.  , 0.06, 0.  , 0.94]],\n",
       "\n",
       "       [[0.  , 0.  , 0.  , 0.  , 0.  , 0.07, 0.  , 0.25, 0.  , 0.68]],\n",
       "\n",
       "       [[0.  , 0.  , 0.  , 0.  , 0.  , 0.  , 0.  , 0.29, 0.  , 0.7 ]],\n",
       "\n",
       "       [[0.  , 0.  , 0.  , 0.  , 0.  , 0.03, 0.  , 0.3 , 0.  , 0.68]],\n",
       "\n",
       "       [[0.  , 0.  , 0.  , 0.  , 0.  , 0.01, 0.  , 0.26, 0.  , 0.73]],\n",
       "\n",
       "       [[0.  , 0.  , 0.  , 0.  , 0.  , 0.  , 0.  , 0.03, 0.  , 0.97]],\n",
       "\n",
       "       [[0.  , 0.  , 0.  , 0.  , 0.  , 0.  , 0.  , 0.13, 0.  , 0.87]],\n",
       "\n",
       "       [[0.  , 0.  , 0.  , 0.  , 0.  , 0.1 , 0.  , 0.63, 0.  , 0.27]],\n",
       "\n",
       "       [[0.  , 0.  , 0.  , 0.  , 0.  , 0.  , 0.  , 0.16, 0.  , 0.84]],\n",
       "\n",
       "       [[0.  , 0.  , 0.  , 0.  , 0.  , 0.  , 0.  , 0.16, 0.  , 0.83]],\n",
       "\n",
       "       [[0.  , 0.  , 0.  , 0.  , 0.  , 0.02, 0.  , 0.13, 0.  , 0.85]],\n",
       "\n",
       "       [[0.  , 0.  , 0.  , 0.  , 0.  , 0.  , 0.  , 0.01, 0.  , 0.99]],\n",
       "\n",
       "       [[0.  , 0.  , 0.  , 0.  , 0.  , 0.  , 0.  , 0.01, 0.  , 0.98]],\n",
       "\n",
       "       [[0.  , 0.  , 0.  , 0.  , 0.  , 0.  , 0.  , 0.09, 0.  , 0.91]],\n",
       "\n",
       "       [[0.  , 0.  , 0.  , 0.  , 0.  , 0.04, 0.  , 0.04, 0.  , 0.92]],\n",
       "\n",
       "       [[0.  , 0.  , 0.  , 0.  , 0.  , 0.01, 0.  , 0.04, 0.  , 0.96]],\n",
       "\n",
       "       [[0.  , 0.  , 0.  , 0.  , 0.  , 0.  , 0.  , 0.05, 0.  , 0.94]],\n",
       "\n",
       "       [[0.  , 0.  , 0.  , 0.  , 0.  , 0.02, 0.  , 0.05, 0.  , 0.94]],\n",
       "\n",
       "       [[0.  , 0.  , 0.  , 0.  , 0.  , 0.  , 0.  , 0.01, 0.  , 0.99]],\n",
       "\n",
       "       [[0.  , 0.  , 0.  , 0.  , 0.  , 0.15, 0.  , 0.15, 0.  , 0.7 ]],\n",
       "\n",
       "       [[0.  , 0.  , 0.  , 0.  , 0.  , 0.01, 0.  , 0.  , 0.  , 0.99]],\n",
       "\n",
       "       [[0.  , 0.  , 0.  , 0.  , 0.  , 0.01, 0.  , 0.04, 0.  , 0.95]],\n",
       "\n",
       "       [[0.  , 0.  , 0.  , 0.  , 0.  , 0.05, 0.  , 0.13, 0.  , 0.82]],\n",
       "\n",
       "       [[0.  , 0.  , 0.  , 0.  , 0.  , 0.  , 0.  , 0.02, 0.  , 0.98]],\n",
       "\n",
       "       [[0.  , 0.  , 0.  , 0.  , 0.  , 0.03, 0.  , 0.16, 0.  , 0.81]],\n",
       "\n",
       "       [[0.  , 0.  , 0.  , 0.  , 0.  , 0.  , 0.  , 0.  , 0.  , 0.99]],\n",
       "\n",
       "       [[0.  , 0.  , 0.  , 0.  , 0.  , 0.  , 0.  , 0.53, 0.  , 0.47]]],\n",
       "      dtype=float32)"
      ]
     },
     "execution_count": 50,
     "metadata": {},
     "output_type": "execute_result"
    }
   ],
   "source": [
    "np.round(y_probas[:, :1], 2)"
   ]
  },
  {
   "cell_type": "code",
   "execution_count": 51,
   "metadata": {},
   "outputs": [
    {
     "data": {
      "text/plain": [
       "array([[0.  , 0.  , 0.  , 0.  , 0.  , 0.02, 0.  , 0.1 , 0.  , 0.88]],\n",
       "      dtype=float32)"
      ]
     },
     "execution_count": 51,
     "metadata": {},
     "output_type": "execute_result"
    }
   ],
   "source": [
    "np.round(y_proba[:1], 2)"
   ]
  },
  {
   "cell_type": "code",
   "execution_count": 52,
   "metadata": {},
   "outputs": [
    {
     "data": {
      "text/plain": [
       "array([[0.  , 0.  , 0.  , 0.  , 0.  , 0.04, 0.  , 0.13, 0.  , 0.14]],\n",
       "      dtype=float32)"
      ]
     },
     "execution_count": 52,
     "metadata": {},
     "output_type": "execute_result"
    }
   ],
   "source": [
    "y_std = y_probas.std(axis=0)\n",
    "np.round(y_std[:1], 2)"
   ]
  },
  {
   "cell_type": "code",
   "execution_count": 53,
   "metadata": {},
   "outputs": [
    {
     "data": {
      "text/plain": [
       "0.8621"
      ]
     },
     "execution_count": 53,
     "metadata": {},
     "output_type": "execute_result"
    }
   ],
   "source": [
    "y_pred = np.argmax(y_proba, axis=1)\n",
    "accuracy = np.sum(y_pred == y_test) / len(y_test)\n",
    "accuracy"
   ]
  },
  {
   "cell_type": "code",
   "execution_count": null,
   "metadata": {},
   "outputs": [],
   "source": []
  }
 ],
 "metadata": {
  "kernelspec": {
   "display_name": "Python 3",
   "language": "python",
   "name": "python3"
  },
  "language_info": {
   "codemirror_mode": {
    "name": "ipython",
    "version": 3
   },
   "file_extension": ".py",
   "mimetype": "text/x-python",
   "name": "python",
   "nbconvert_exporter": "python",
   "pygments_lexer": "ipython3",
   "version": "3.9.0"
  },
  "orig_nbformat": 4
 },
 "nbformat": 4,
 "nbformat_minor": 2
}
